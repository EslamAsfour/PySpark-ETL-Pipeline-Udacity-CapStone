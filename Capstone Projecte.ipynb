{
 "cells": [
  {
   "cell_type": "markdown",
   "metadata": {
    "editable": true
   },
   "source": [
    "# Project Title\n",
    "### Data Engineering Capstone Project\n",
    "\n",
    "#### Project Summary\n",
    "In this project we will be working with Spark to create an ETL Pipeline for **I94 Immigration Data** the main purpose of this project is to create an DWH using star schema for the Immigration to US. <br>\n",
    "We will be using two more datasets to help us improve our output analysis by the end of the ETL process \n",
    "1. U.S. City Demographic Data \n",
    " - The US City Demography provide us more info about the US states and cities population and provide some statistics so we can ask questions and find pattern between the number of immigrants and the state that he will go to and why some states or cities have more immigrants that the others <br>\n",
    "2. Airport Code Table\n",
    " - The Airport code table provide more info about the Airports codes and types and locations and continent and region so we can find patterns between the immigration and the type of airports or the regions of them.\n",
    "\n",
    "The project follows the follow steps:\n",
    "* Step 1: Scope the Project and Gather Data\n",
    "* Step 2: Explore and Assess the Data\n",
    "* Step 3: Define the Data Model\n",
    "* Step 4: Run ETL to Model the Data\n",
    "* Step 5: Complete Project Write Up"
   ]
  },
  {
   "cell_type": "markdown",
   "metadata": {
    "editable": true
   },
   "source": [
    "#### Import Needed Libiraries "
   ]
  },
  {
   "cell_type": "code",
   "execution_count": 2,
   "metadata": {
    "editable": true
   },
   "outputs": [],
   "source": [
    "# Do all imports and installs here\n",
    "import pandas as pd\n",
    "from pyspark.sql.functions import  udf , col\n",
    "from pyspark.sql.types import StringType\n"
   ]
  },
  {
   "cell_type": "markdown",
   "metadata": {
    "editable": true
   },
   "source": [
    "#### Create Spark Session"
   ]
  },
  {
   "cell_type": "code",
   "execution_count": 3,
   "metadata": {
    "editable": true
   },
   "outputs": [],
   "source": [
    "from pyspark.sql import SparkSession\n",
    "\n",
    "spark = SparkSession.builder.\\\n",
    "config(\"spark.jars.repositories\", \"https://repos.spark-packages.org/\").\\\n",
    "config(\"spark.jars.packages\", \"saurfang:spark-sas7bdat:2.0.0-s_2.11\").\\\n",
    "enableHiveSupport().getOrCreate()"
   ]
  },
  {
   "cell_type": "markdown",
   "metadata": {
    "editable": true
   },
   "source": [
    "### Step 1: Scope the Project and Gather Data\n",
    "\n",
    "#### Scope \n",
    "At the Beginning we need to learn more about the Datasets that we are going to use \n",
    "Let's have alook on the table below and feel free to follow the links to learn more about the Data\n",
    "\n",
    "#### Describe and Gather Data \n",
    "\n",
    "|Dataset Name| Format| Path| Description |\n",
    "|--|--|--|--|\n",
    "|I94 Immigration Data| sas7bdat | '../../data/18-83510-I94-Data-2016/*.sas7bdat' |This data comes from the US National Tourism and Trade Office. A data dictionary is included in the workspace. This is where the data comes from. There's a sample file so you can take a look at the data in csv format before reading it all in. You do not have to use the entire dataset, just use what you need to accomplish the goal you set at the beginning of the project.|\n",
    "| U.S. City Demographic Data | CSV| 'us-cities-demographics.csv' | This data comes from OpenSoft. You can read more about it [here](https://public.opendatasoft.com/explore/dataset/us-cities-demographics/export/). |\n",
    "| Airport Code Table | CSV| 'airport-codes_csv.csv' | This is a simple table of airport codes and corresponding cities. It comes from [here](https://datahub.io/core/airport-codes#data). |\n",
    "\n",
    "The Steps that we are going to do is as Follows : \n",
    "1. Use Spark to load I94 Immigration Data\n",
    "2. Take a look on the table and identify whick columns we are going to use\n",
    "3. Use Spark to load U.S. City Demographic Data\n",
    "4. Take a look on the data and the columns\n",
    "5. Use Spark to load Airport Code Table\n",
    "6. Take a look on the data and the columns\n",
    "\n",
    "- After That we will dive deep into each table transforming data and cleaning data \n",
    "- From There we will be able to create out DWH Schema \n",
    "- After creating the schema we will use spark to create the Fact table and the Dim table\n",
    "- And at the end we will define our own Data Quality Checks to test the quality of the data"
   ]
  },
  {
   "cell_type": "markdown",
   "metadata": {
    "editable": true
   },
   "source": [
    "### Initial Dataset loads with quick view\n",
    "#### 1) I94 Immigration Data\n"
   ]
  },
  {
   "cell_type": "code",
   "execution_count": 4,
   "metadata": {
    "editable": true
   },
   "outputs": [],
   "source": [
    "# Read csv\n",
    "# read in the data\n",
    "fname = '../../data/18-83510-I94-Data-2016/i94_apr16_sub.sas7bdat'\n",
    "immigration_df = spark.read.format('com.github.saurfang.sas.spark').load(fname)"
   ]
  },
  {
   "cell_type": "code",
   "execution_count": 5,
   "metadata": {
    "editable": true
   },
   "outputs": [
    {
     "data": {
      "text/html": [
       "<div>\n",
       "<style scoped>\n",
       "    .dataframe tbody tr th:only-of-type {\n",
       "        vertical-align: middle;\n",
       "    }\n",
       "\n",
       "    .dataframe tbody tr th {\n",
       "        vertical-align: top;\n",
       "    }\n",
       "\n",
       "    .dataframe thead th {\n",
       "        text-align: right;\n",
       "    }\n",
       "</style>\n",
       "<table border=\"1\" class=\"dataframe\">\n",
       "  <thead>\n",
       "    <tr style=\"text-align: right;\">\n",
       "      <th></th>\n",
       "      <th>cicid</th>\n",
       "      <th>i94yr</th>\n",
       "      <th>i94mon</th>\n",
       "      <th>i94cit</th>\n",
       "      <th>i94res</th>\n",
       "      <th>i94port</th>\n",
       "      <th>arrdate</th>\n",
       "      <th>i94mode</th>\n",
       "      <th>i94addr</th>\n",
       "      <th>depdate</th>\n",
       "      <th>...</th>\n",
       "      <th>entdepu</th>\n",
       "      <th>matflag</th>\n",
       "      <th>biryear</th>\n",
       "      <th>dtaddto</th>\n",
       "      <th>gender</th>\n",
       "      <th>insnum</th>\n",
       "      <th>airline</th>\n",
       "      <th>admnum</th>\n",
       "      <th>fltno</th>\n",
       "      <th>visatype</th>\n",
       "    </tr>\n",
       "  </thead>\n",
       "  <tbody>\n",
       "    <tr>\n",
       "      <th>0</th>\n",
       "      <td>6.0</td>\n",
       "      <td>2016.0</td>\n",
       "      <td>4.0</td>\n",
       "      <td>692.0</td>\n",
       "      <td>692.0</td>\n",
       "      <td>XXX</td>\n",
       "      <td>20573.0</td>\n",
       "      <td>NaN</td>\n",
       "      <td>None</td>\n",
       "      <td>NaN</td>\n",
       "      <td>...</td>\n",
       "      <td>U</td>\n",
       "      <td>None</td>\n",
       "      <td>1979.0</td>\n",
       "      <td>10282016</td>\n",
       "      <td>None</td>\n",
       "      <td>None</td>\n",
       "      <td>None</td>\n",
       "      <td>1.897628e+09</td>\n",
       "      <td>None</td>\n",
       "      <td>B2</td>\n",
       "    </tr>\n",
       "    <tr>\n",
       "      <th>1</th>\n",
       "      <td>7.0</td>\n",
       "      <td>2016.0</td>\n",
       "      <td>4.0</td>\n",
       "      <td>254.0</td>\n",
       "      <td>276.0</td>\n",
       "      <td>ATL</td>\n",
       "      <td>20551.0</td>\n",
       "      <td>1.0</td>\n",
       "      <td>AL</td>\n",
       "      <td>NaN</td>\n",
       "      <td>...</td>\n",
       "      <td>Y</td>\n",
       "      <td>None</td>\n",
       "      <td>1991.0</td>\n",
       "      <td>D/S</td>\n",
       "      <td>M</td>\n",
       "      <td>None</td>\n",
       "      <td>None</td>\n",
       "      <td>3.736796e+09</td>\n",
       "      <td>00296</td>\n",
       "      <td>F1</td>\n",
       "    </tr>\n",
       "    <tr>\n",
       "      <th>2</th>\n",
       "      <td>15.0</td>\n",
       "      <td>2016.0</td>\n",
       "      <td>4.0</td>\n",
       "      <td>101.0</td>\n",
       "      <td>101.0</td>\n",
       "      <td>WAS</td>\n",
       "      <td>20545.0</td>\n",
       "      <td>1.0</td>\n",
       "      <td>MI</td>\n",
       "      <td>20691.0</td>\n",
       "      <td>...</td>\n",
       "      <td>None</td>\n",
       "      <td>M</td>\n",
       "      <td>1961.0</td>\n",
       "      <td>09302016</td>\n",
       "      <td>M</td>\n",
       "      <td>None</td>\n",
       "      <td>OS</td>\n",
       "      <td>6.666432e+08</td>\n",
       "      <td>93</td>\n",
       "      <td>B2</td>\n",
       "    </tr>\n",
       "    <tr>\n",
       "      <th>3</th>\n",
       "      <td>16.0</td>\n",
       "      <td>2016.0</td>\n",
       "      <td>4.0</td>\n",
       "      <td>101.0</td>\n",
       "      <td>101.0</td>\n",
       "      <td>NYC</td>\n",
       "      <td>20545.0</td>\n",
       "      <td>1.0</td>\n",
       "      <td>MA</td>\n",
       "      <td>20567.0</td>\n",
       "      <td>...</td>\n",
       "      <td>None</td>\n",
       "      <td>M</td>\n",
       "      <td>1988.0</td>\n",
       "      <td>09302016</td>\n",
       "      <td>None</td>\n",
       "      <td>None</td>\n",
       "      <td>AA</td>\n",
       "      <td>9.246846e+10</td>\n",
       "      <td>00199</td>\n",
       "      <td>B2</td>\n",
       "    </tr>\n",
       "    <tr>\n",
       "      <th>4</th>\n",
       "      <td>17.0</td>\n",
       "      <td>2016.0</td>\n",
       "      <td>4.0</td>\n",
       "      <td>101.0</td>\n",
       "      <td>101.0</td>\n",
       "      <td>NYC</td>\n",
       "      <td>20545.0</td>\n",
       "      <td>1.0</td>\n",
       "      <td>MA</td>\n",
       "      <td>20567.0</td>\n",
       "      <td>...</td>\n",
       "      <td>None</td>\n",
       "      <td>M</td>\n",
       "      <td>2012.0</td>\n",
       "      <td>09302016</td>\n",
       "      <td>None</td>\n",
       "      <td>None</td>\n",
       "      <td>AA</td>\n",
       "      <td>9.246846e+10</td>\n",
       "      <td>00199</td>\n",
       "      <td>B2</td>\n",
       "    </tr>\n",
       "  </tbody>\n",
       "</table>\n",
       "<p>5 rows × 28 columns</p>\n",
       "</div>"
      ],
      "text/plain": [
       "   cicid   i94yr  i94mon  i94cit  i94res i94port  arrdate  i94mode i94addr  \\\n",
       "0    6.0  2016.0     4.0   692.0   692.0     XXX  20573.0      NaN    None   \n",
       "1    7.0  2016.0     4.0   254.0   276.0     ATL  20551.0      1.0      AL   \n",
       "2   15.0  2016.0     4.0   101.0   101.0     WAS  20545.0      1.0      MI   \n",
       "3   16.0  2016.0     4.0   101.0   101.0     NYC  20545.0      1.0      MA   \n",
       "4   17.0  2016.0     4.0   101.0   101.0     NYC  20545.0      1.0      MA   \n",
       "\n",
       "   depdate   ...     entdepu  matflag  biryear   dtaddto gender insnum  \\\n",
       "0      NaN   ...           U     None   1979.0  10282016   None   None   \n",
       "1      NaN   ...           Y     None   1991.0       D/S      M   None   \n",
       "2  20691.0   ...        None        M   1961.0  09302016      M   None   \n",
       "3  20567.0   ...        None        M   1988.0  09302016   None   None   \n",
       "4  20567.0   ...        None        M   2012.0  09302016   None   None   \n",
       "\n",
       "  airline        admnum  fltno visatype  \n",
       "0    None  1.897628e+09   None       B2  \n",
       "1    None  3.736796e+09  00296       F1  \n",
       "2      OS  6.666432e+08     93       B2  \n",
       "3      AA  9.246846e+10  00199       B2  \n",
       "4      AA  9.246846e+10  00199       B2  \n",
       "\n",
       "[5 rows x 28 columns]"
      ]
     },
     "execution_count": 5,
     "metadata": {},
     "output_type": "execute_result"
    }
   ],
   "source": [
    "immigration_df.limit(5).toPandas()"
   ]
  },
  {
   "cell_type": "code",
   "execution_count": 5,
   "metadata": {
    "editable": true
   },
   "outputs": [
    {
     "data": {
      "text/plain": [
       "3096313"
      ]
     },
     "execution_count": 5,
     "metadata": {},
     "output_type": "execute_result"
    }
   ],
   "source": [
    "immigration_df.count()"
   ]
  },
  {
   "cell_type": "markdown",
   "metadata": {
    "editable": true
   },
   "source": [
    "| Col | Description |\n",
    "|--|--|\n",
    "cicid | Unique record ID \n",
    "i94yr | 4 digit year\n",
    "i94mon | Numeric month\n",
    "i94cit | 3 digit code for immigrant country of birth\n",
    "i94res | 3 digit code for immigrant country of residence\n",
    "i94port | Port of admission\n",
    "arrdate | Arrival Date in the USA\n",
    "i94mode | Mode of transportation (1 = Air; 2 = Sea; 3 = Land; 9 = Not reported)\n",
    "i94addr | USA State of arrival\n",
    "depdate | Departure Date from the USA\n",
    "i94bir | Age of Respondent in Years\n",
    "i94visa | Visa codes collapsed into three categories\n",
    "count | Field used for summary statistics\n",
    "dtadfile | Character Date Field - Date added to I-94 Files\n",
    "visapost | Department of State where where Visa was issued\n",
    "occup | Occupation that will be performed in U.S\n",
    "entdepa | Arrival Flag - admitted or paroled into the U.S.\n",
    "entdepd | Departure Flag - Departed, lost I-94 or is deceased\n",
    "entdepu | Update Flag - Either apprehended, overstayed, adjusted to perm residence\n",
    "matflag | Match flag - Match of arrival and departure records\n",
    "biryear | 4 digit year of birth\n",
    "dtaddto | Character Date Field - Date to which admitted to U.S. (allowed to stay until)\n",
    "gender | Non-immigrant sex\n",
    "insnum | INS number\n",
    "airline | Airline used to arrive in U.S.\n",
    "admnum | Admission Number\n",
    "fltno | Flight number of Airline used to arrive in U.S.\n",
    "visatype | Class of admission legally admitting the non-immigrant to temporarily stay in U.S."
   ]
  },
  {
   "cell_type": "markdown",
   "metadata": {
    "editable": true
   },
   "source": [
    "#### 2) US Cities Demographics Data"
   ]
  },
  {
   "cell_type": "code",
   "execution_count": 6,
   "metadata": {
    "editable": true
   },
   "outputs": [
    {
     "data": {
      "text/html": [
       "<div>\n",
       "<style scoped>\n",
       "    .dataframe tbody tr th:only-of-type {\n",
       "        vertical-align: middle;\n",
       "    }\n",
       "\n",
       "    .dataframe tbody tr th {\n",
       "        vertical-align: top;\n",
       "    }\n",
       "\n",
       "    .dataframe thead th {\n",
       "        text-align: right;\n",
       "    }\n",
       "</style>\n",
       "<table border=\"1\" class=\"dataframe\">\n",
       "  <thead>\n",
       "    <tr style=\"text-align: right;\">\n",
       "      <th></th>\n",
       "      <th>City</th>\n",
       "      <th>State</th>\n",
       "      <th>Median Age</th>\n",
       "      <th>Male Population</th>\n",
       "      <th>Female Population</th>\n",
       "      <th>Total Population</th>\n",
       "      <th>Number of Veterans</th>\n",
       "      <th>Foreign-born</th>\n",
       "      <th>Average Household Size</th>\n",
       "      <th>State Code</th>\n",
       "      <th>Race</th>\n",
       "      <th>Count</th>\n",
       "    </tr>\n",
       "  </thead>\n",
       "  <tbody>\n",
       "    <tr>\n",
       "      <th>0</th>\n",
       "      <td>Silver Spring</td>\n",
       "      <td>Maryland</td>\n",
       "      <td>33.8</td>\n",
       "      <td>40601</td>\n",
       "      <td>41862</td>\n",
       "      <td>82463</td>\n",
       "      <td>1562</td>\n",
       "      <td>30908</td>\n",
       "      <td>2.6</td>\n",
       "      <td>MD</td>\n",
       "      <td>Hispanic or Latino</td>\n",
       "      <td>25924</td>\n",
       "    </tr>\n",
       "    <tr>\n",
       "      <th>1</th>\n",
       "      <td>Quincy</td>\n",
       "      <td>Massachusetts</td>\n",
       "      <td>41.0</td>\n",
       "      <td>44129</td>\n",
       "      <td>49500</td>\n",
       "      <td>93629</td>\n",
       "      <td>4147</td>\n",
       "      <td>32935</td>\n",
       "      <td>2.39</td>\n",
       "      <td>MA</td>\n",
       "      <td>White</td>\n",
       "      <td>58723</td>\n",
       "    </tr>\n",
       "    <tr>\n",
       "      <th>2</th>\n",
       "      <td>Hoover</td>\n",
       "      <td>Alabama</td>\n",
       "      <td>38.5</td>\n",
       "      <td>38040</td>\n",
       "      <td>46799</td>\n",
       "      <td>84839</td>\n",
       "      <td>4819</td>\n",
       "      <td>8229</td>\n",
       "      <td>2.58</td>\n",
       "      <td>AL</td>\n",
       "      <td>Asian</td>\n",
       "      <td>4759</td>\n",
       "    </tr>\n",
       "    <tr>\n",
       "      <th>3</th>\n",
       "      <td>Rancho Cucamonga</td>\n",
       "      <td>California</td>\n",
       "      <td>34.5</td>\n",
       "      <td>88127</td>\n",
       "      <td>87105</td>\n",
       "      <td>175232</td>\n",
       "      <td>5821</td>\n",
       "      <td>33878</td>\n",
       "      <td>3.18</td>\n",
       "      <td>CA</td>\n",
       "      <td>Black or African-American</td>\n",
       "      <td>24437</td>\n",
       "    </tr>\n",
       "    <tr>\n",
       "      <th>4</th>\n",
       "      <td>Newark</td>\n",
       "      <td>New Jersey</td>\n",
       "      <td>34.6</td>\n",
       "      <td>138040</td>\n",
       "      <td>143873</td>\n",
       "      <td>281913</td>\n",
       "      <td>5829</td>\n",
       "      <td>86253</td>\n",
       "      <td>2.73</td>\n",
       "      <td>NJ</td>\n",
       "      <td>White</td>\n",
       "      <td>76402</td>\n",
       "    </tr>\n",
       "  </tbody>\n",
       "</table>\n",
       "</div>"
      ],
      "text/plain": [
       "               City          State Median Age Male Population  \\\n",
       "0     Silver Spring       Maryland       33.8           40601   \n",
       "1            Quincy  Massachusetts       41.0           44129   \n",
       "2            Hoover        Alabama       38.5           38040   \n",
       "3  Rancho Cucamonga     California       34.5           88127   \n",
       "4            Newark     New Jersey       34.6          138040   \n",
       "\n",
       "  Female Population Total Population Number of Veterans Foreign-born  \\\n",
       "0             41862            82463               1562        30908   \n",
       "1             49500            93629               4147        32935   \n",
       "2             46799            84839               4819         8229   \n",
       "3             87105           175232               5821        33878   \n",
       "4            143873           281913               5829        86253   \n",
       "\n",
       "  Average Household Size State Code                       Race  Count  \n",
       "0                    2.6         MD         Hispanic or Latino  25924  \n",
       "1                   2.39         MA                      White  58723  \n",
       "2                   2.58         AL                      Asian   4759  \n",
       "3                   3.18         CA  Black or African-American  24437  \n",
       "4                   2.73         NJ                      White  76402  "
      ]
     },
     "execution_count": 6,
     "metadata": {},
     "output_type": "execute_result"
    }
   ],
   "source": [
    "cities_df = spark.read.option(\"delimiter\"  , \";\"  ).option(\"Header\" , True).csv('us-cities-demographics.csv' )\n",
    "cities_df.limit(5).toPandas()"
   ]
  },
  {
   "cell_type": "code",
   "execution_count": 7,
   "metadata": {
    "editable": true
   },
   "outputs": [
    {
     "data": {
      "text/plain": [
       "2891"
      ]
     },
     "execution_count": 7,
     "metadata": {},
     "output_type": "execute_result"
    }
   ],
   "source": [
    "cities_df.count()"
   ]
  },
  {
   "cell_type": "markdown",
   "metadata": {
    "editable": true
   },
   "source": [
    "|Col |Description |\n",
    "|--|--|\n",
    "City | City Name\n",
    "State | US State where city is located\n",
    "Median Age | Median age of the population\n",
    "Male Population | Count of male population\n",
    "Female Population | Count of female population\n",
    "Total Population | Count of total population\n",
    "Number of Veterans | Count of total Veterans\n",
    "Foreign born | Count of residents of the city that were not born in the city\n",
    "Average Household Size | Average city household size\n",
    "State Code | Code of the US state\n",
    "Race | Respondent race\n",
    "Count | Count of city's individual per race"
   ]
  },
  {
   "cell_type": "markdown",
   "metadata": {
    "editable": true
   },
   "source": [
    "#### 3) Airport Codes Data"
   ]
  },
  {
   "cell_type": "code",
   "execution_count": 8,
   "metadata": {
    "editable": true
   },
   "outputs": [
    {
     "data": {
      "text/html": [
       "<div>\n",
       "<style scoped>\n",
       "    .dataframe tbody tr th:only-of-type {\n",
       "        vertical-align: middle;\n",
       "    }\n",
       "\n",
       "    .dataframe tbody tr th {\n",
       "        vertical-align: top;\n",
       "    }\n",
       "\n",
       "    .dataframe thead th {\n",
       "        text-align: right;\n",
       "    }\n",
       "</style>\n",
       "<table border=\"1\" class=\"dataframe\">\n",
       "  <thead>\n",
       "    <tr style=\"text-align: right;\">\n",
       "      <th></th>\n",
       "      <th>ident</th>\n",
       "      <th>type</th>\n",
       "      <th>name</th>\n",
       "      <th>elevation_ft</th>\n",
       "      <th>continent</th>\n",
       "      <th>iso_country</th>\n",
       "      <th>iso_region</th>\n",
       "      <th>municipality</th>\n",
       "      <th>gps_code</th>\n",
       "      <th>iata_code</th>\n",
       "      <th>local_code</th>\n",
       "      <th>coordinates</th>\n",
       "    </tr>\n",
       "  </thead>\n",
       "  <tbody>\n",
       "    <tr>\n",
       "      <th>0</th>\n",
       "      <td>00A</td>\n",
       "      <td>heliport</td>\n",
       "      <td>Total Rf Heliport</td>\n",
       "      <td>11</td>\n",
       "      <td>NA</td>\n",
       "      <td>US</td>\n",
       "      <td>US-PA</td>\n",
       "      <td>Bensalem</td>\n",
       "      <td>00A</td>\n",
       "      <td>None</td>\n",
       "      <td>00A</td>\n",
       "      <td>-74.93360137939453, 40.07080078125</td>\n",
       "    </tr>\n",
       "    <tr>\n",
       "      <th>1</th>\n",
       "      <td>00AA</td>\n",
       "      <td>small_airport</td>\n",
       "      <td>Aero B Ranch Airport</td>\n",
       "      <td>3435</td>\n",
       "      <td>NA</td>\n",
       "      <td>US</td>\n",
       "      <td>US-KS</td>\n",
       "      <td>Leoti</td>\n",
       "      <td>00AA</td>\n",
       "      <td>None</td>\n",
       "      <td>00AA</td>\n",
       "      <td>-101.473911, 38.704022</td>\n",
       "    </tr>\n",
       "    <tr>\n",
       "      <th>2</th>\n",
       "      <td>00AK</td>\n",
       "      <td>small_airport</td>\n",
       "      <td>Lowell Field</td>\n",
       "      <td>450</td>\n",
       "      <td>NA</td>\n",
       "      <td>US</td>\n",
       "      <td>US-AK</td>\n",
       "      <td>Anchor Point</td>\n",
       "      <td>00AK</td>\n",
       "      <td>None</td>\n",
       "      <td>00AK</td>\n",
       "      <td>-151.695999146, 59.94919968</td>\n",
       "    </tr>\n",
       "    <tr>\n",
       "      <th>3</th>\n",
       "      <td>00AL</td>\n",
       "      <td>small_airport</td>\n",
       "      <td>Epps Airpark</td>\n",
       "      <td>820</td>\n",
       "      <td>NA</td>\n",
       "      <td>US</td>\n",
       "      <td>US-AL</td>\n",
       "      <td>Harvest</td>\n",
       "      <td>00AL</td>\n",
       "      <td>None</td>\n",
       "      <td>00AL</td>\n",
       "      <td>-86.77030181884766, 34.86479949951172</td>\n",
       "    </tr>\n",
       "    <tr>\n",
       "      <th>4</th>\n",
       "      <td>00AR</td>\n",
       "      <td>closed</td>\n",
       "      <td>Newport Hospital &amp; Clinic Heliport</td>\n",
       "      <td>237</td>\n",
       "      <td>NA</td>\n",
       "      <td>US</td>\n",
       "      <td>US-AR</td>\n",
       "      <td>Newport</td>\n",
       "      <td>None</td>\n",
       "      <td>None</td>\n",
       "      <td>None</td>\n",
       "      <td>-91.254898, 35.6087</td>\n",
       "    </tr>\n",
       "  </tbody>\n",
       "</table>\n",
       "</div>"
      ],
      "text/plain": [
       "  ident           type                                name elevation_ft  \\\n",
       "0   00A       heliport                   Total Rf Heliport           11   \n",
       "1  00AA  small_airport                Aero B Ranch Airport         3435   \n",
       "2  00AK  small_airport                        Lowell Field          450   \n",
       "3  00AL  small_airport                        Epps Airpark          820   \n",
       "4  00AR         closed  Newport Hospital & Clinic Heliport          237   \n",
       "\n",
       "  continent iso_country iso_region  municipality gps_code iata_code  \\\n",
       "0        NA          US      US-PA      Bensalem      00A      None   \n",
       "1        NA          US      US-KS         Leoti     00AA      None   \n",
       "2        NA          US      US-AK  Anchor Point     00AK      None   \n",
       "3        NA          US      US-AL       Harvest     00AL      None   \n",
       "4        NA          US      US-AR       Newport     None      None   \n",
       "\n",
       "  local_code                            coordinates  \n",
       "0        00A     -74.93360137939453, 40.07080078125  \n",
       "1       00AA                 -101.473911, 38.704022  \n",
       "2       00AK            -151.695999146, 59.94919968  \n",
       "3       00AL  -86.77030181884766, 34.86479949951172  \n",
       "4       None                    -91.254898, 35.6087  "
      ]
     },
     "execution_count": 8,
     "metadata": {},
     "output_type": "execute_result"
    }
   ],
   "source": [
    "Airport_df = spark.read.option(\"Header\" , True).csv('airport-codes_csv.csv' )\n",
    "Airport_df.limit(5).toPandas()"
   ]
  },
  {
   "cell_type": "code",
   "execution_count": 9,
   "metadata": {
    "editable": true
   },
   "outputs": [
    {
     "data": {
      "text/plain": [
       "55075"
      ]
     },
     "execution_count": 9,
     "metadata": {},
     "output_type": "execute_result"
    }
   ],
   "source": [
    "Airport_df.count()"
   ]
  },
  {
   "cell_type": "markdown",
   "metadata": {
    "editable": true
   },
   "source": [
    "### Step 2: Explore and Assess the Data\n",
    "#### Explore and Clearning the Datasets\n",
    "In this Step we will check each table and search for null values and useless columns that will not help us in the analysis \n",
    "After Cleaning the data we will do some transformations if needed to be able to JOIN the tables \n",
    "> Here we will be search for NULL values and useless columns and duplicates to keep only useful data"
   ]
  },
  {
   "cell_type": "markdown",
   "metadata": {
    "editable": true
   },
   "source": [
    "#### 1) I94 Immigration Data"
   ]
  },
  {
   "cell_type": "code",
   "execution_count": 10,
   "metadata": {
    "editable": true
   },
   "outputs": [],
   "source": [
    "# Load data from april 2016\n",
    "fname = '../../data/18-83510-I94-Data-2016/i94_apr16_sub.sas7bdat'\n",
    "immigration_df = spark.read.format('com.github.saurfang.sas.spark').load(fname)"
   ]
  },
  {
   "cell_type": "code",
   "execution_count": 11,
   "metadata": {
    "editable": true,
    "scrolled": true
   },
   "outputs": [
    {
     "data": {
      "text/plain": [
       "['cicid',\n",
       " 'i94yr',\n",
       " 'i94mon',\n",
       " 'i94cit',\n",
       " 'i94res',\n",
       " 'i94port',\n",
       " 'arrdate',\n",
       " 'i94mode',\n",
       " 'i94addr',\n",
       " 'depdate',\n",
       " 'i94bir',\n",
       " 'i94visa',\n",
       " 'count',\n",
       " 'dtadfile',\n",
       " 'visapost',\n",
       " 'occup',\n",
       " 'entdepa',\n",
       " 'entdepd',\n",
       " 'entdepu',\n",
       " 'matflag',\n",
       " 'biryear',\n",
       " 'dtaddto',\n",
       " 'gender',\n",
       " 'insnum',\n",
       " 'airline',\n",
       " 'admnum',\n",
       " 'fltno',\n",
       " 'visatype']"
      ]
     },
     "execution_count": 11,
     "metadata": {},
     "output_type": "execute_result"
    }
   ],
   "source": [
    "immigration_df.columns"
   ]
  },
  {
   "cell_type": "code",
   "execution_count": 12,
   "metadata": {
    "editable": true
   },
   "outputs": [
    {
     "data": {
      "text/html": [
       "<div>\n",
       "<style scoped>\n",
       "    .dataframe tbody tr th:only-of-type {\n",
       "        vertical-align: middle;\n",
       "    }\n",
       "\n",
       "    .dataframe tbody tr th {\n",
       "        vertical-align: top;\n",
       "    }\n",
       "\n",
       "    .dataframe thead th {\n",
       "        text-align: right;\n",
       "    }\n",
       "</style>\n",
       "<table border=\"1\" class=\"dataframe\">\n",
       "  <thead>\n",
       "    <tr style=\"text-align: right;\">\n",
       "      <th></th>\n",
       "      <th>entdepa</th>\n",
       "      <th>entdepd</th>\n",
       "      <th>entdepu</th>\n",
       "      <th>matflag</th>\n",
       "    </tr>\n",
       "  </thead>\n",
       "  <tbody>\n",
       "    <tr>\n",
       "      <th>0</th>\n",
       "      <td>T</td>\n",
       "      <td>None</td>\n",
       "      <td>U</td>\n",
       "      <td>None</td>\n",
       "    </tr>\n",
       "    <tr>\n",
       "      <th>1</th>\n",
       "      <td>G</td>\n",
       "      <td>None</td>\n",
       "      <td>Y</td>\n",
       "      <td>None</td>\n",
       "    </tr>\n",
       "    <tr>\n",
       "      <th>2</th>\n",
       "      <td>T</td>\n",
       "      <td>O</td>\n",
       "      <td>None</td>\n",
       "      <td>M</td>\n",
       "    </tr>\n",
       "    <tr>\n",
       "      <th>3</th>\n",
       "      <td>O</td>\n",
       "      <td>O</td>\n",
       "      <td>None</td>\n",
       "      <td>M</td>\n",
       "    </tr>\n",
       "    <tr>\n",
       "      <th>4</th>\n",
       "      <td>O</td>\n",
       "      <td>O</td>\n",
       "      <td>None</td>\n",
       "      <td>M</td>\n",
       "    </tr>\n",
       "    <tr>\n",
       "      <th>5</th>\n",
       "      <td>O</td>\n",
       "      <td>O</td>\n",
       "      <td>None</td>\n",
       "      <td>M</td>\n",
       "    </tr>\n",
       "    <tr>\n",
       "      <th>6</th>\n",
       "      <td>O</td>\n",
       "      <td>K</td>\n",
       "      <td>None</td>\n",
       "      <td>M</td>\n",
       "    </tr>\n",
       "    <tr>\n",
       "      <th>7</th>\n",
       "      <td>O</td>\n",
       "      <td>K</td>\n",
       "      <td>None</td>\n",
       "      <td>M</td>\n",
       "    </tr>\n",
       "    <tr>\n",
       "      <th>8</th>\n",
       "      <td>O</td>\n",
       "      <td>O</td>\n",
       "      <td>None</td>\n",
       "      <td>M</td>\n",
       "    </tr>\n",
       "    <tr>\n",
       "      <th>9</th>\n",
       "      <td>O</td>\n",
       "      <td>O</td>\n",
       "      <td>None</td>\n",
       "      <td>M</td>\n",
       "    </tr>\n",
       "  </tbody>\n",
       "</table>\n",
       "</div>"
      ],
      "text/plain": [
       "  entdepa entdepd entdepu matflag\n",
       "0       T    None       U    None\n",
       "1       G    None       Y    None\n",
       "2       T       O    None       M\n",
       "3       O       O    None       M\n",
       "4       O       O    None       M\n",
       "5       O       O    None       M\n",
       "6       O       K    None       M\n",
       "7       O       K    None       M\n",
       "8       O       O    None       M\n",
       "9       O       O    None       M"
      ]
     },
     "execution_count": 12,
     "metadata": {},
     "output_type": "execute_result"
    }
   ],
   "source": [
    "# Check Flags\n",
    "immigration_df.select( 'entdepa','entdepd','entdepu','matflag').limit(10).toPandas()"
   ]
  },
  {
   "cell_type": "markdown",
   "metadata": {
    "editable": true
   },
   "source": [
    "> Not giving us detailed info so we will not be using them \n",
    "#### Now let's select the columns that we are intersted in the most"
   ]
  },
  {
   "cell_type": "code",
   "execution_count": 13,
   "metadata": {
    "editable": true
   },
   "outputs": [
    {
     "data": {
      "text/html": [
       "<div>\n",
       "<style scoped>\n",
       "    .dataframe tbody tr th:only-of-type {\n",
       "        vertical-align: middle;\n",
       "    }\n",
       "\n",
       "    .dataframe tbody tr th {\n",
       "        vertical-align: top;\n",
       "    }\n",
       "\n",
       "    .dataframe thead th {\n",
       "        text-align: right;\n",
       "    }\n",
       "</style>\n",
       "<table border=\"1\" class=\"dataframe\">\n",
       "  <thead>\n",
       "    <tr style=\"text-align: right;\">\n",
       "      <th></th>\n",
       "      <th>Img_ID</th>\n",
       "      <th>Img_Year</th>\n",
       "      <th>Img_Month</th>\n",
       "      <th>Img_BCountry</th>\n",
       "      <th>Img_ResidenceCountry</th>\n",
       "      <th>Img_City</th>\n",
       "      <th>Transportation_Mode</th>\n",
       "      <th>State_Arrival</th>\n",
       "      <th>Age</th>\n",
       "      <th>Visa_Codes</th>\n",
       "      <th>OccupationState</th>\n",
       "      <th>Img_BYear</th>\n",
       "      <th>Img_gender</th>\n",
       "      <th>Airline</th>\n",
       "      <th>Flight_Number</th>\n",
       "      <th>Visa_Type</th>\n",
       "      <th>Visa_Post</th>\n",
       "      <th>INS_Number</th>\n",
       "    </tr>\n",
       "  </thead>\n",
       "  <tbody>\n",
       "    <tr>\n",
       "      <th>0</th>\n",
       "      <td>6.0</td>\n",
       "      <td>2016.0</td>\n",
       "      <td>4.0</td>\n",
       "      <td>692.0</td>\n",
       "      <td>692.0</td>\n",
       "      <td>XXX</td>\n",
       "      <td>NaN</td>\n",
       "      <td>None</td>\n",
       "      <td>37.0</td>\n",
       "      <td>2.0</td>\n",
       "      <td>None</td>\n",
       "      <td>1979.0</td>\n",
       "      <td>None</td>\n",
       "      <td>None</td>\n",
       "      <td>None</td>\n",
       "      <td>B2</td>\n",
       "      <td>None</td>\n",
       "      <td>None</td>\n",
       "    </tr>\n",
       "    <tr>\n",
       "      <th>1</th>\n",
       "      <td>7.0</td>\n",
       "      <td>2016.0</td>\n",
       "      <td>4.0</td>\n",
       "      <td>254.0</td>\n",
       "      <td>276.0</td>\n",
       "      <td>ATL</td>\n",
       "      <td>1.0</td>\n",
       "      <td>AL</td>\n",
       "      <td>25.0</td>\n",
       "      <td>3.0</td>\n",
       "      <td>None</td>\n",
       "      <td>1991.0</td>\n",
       "      <td>M</td>\n",
       "      <td>None</td>\n",
       "      <td>00296</td>\n",
       "      <td>F1</td>\n",
       "      <td>SEO</td>\n",
       "      <td>None</td>\n",
       "    </tr>\n",
       "    <tr>\n",
       "      <th>2</th>\n",
       "      <td>15.0</td>\n",
       "      <td>2016.0</td>\n",
       "      <td>4.0</td>\n",
       "      <td>101.0</td>\n",
       "      <td>101.0</td>\n",
       "      <td>WAS</td>\n",
       "      <td>1.0</td>\n",
       "      <td>MI</td>\n",
       "      <td>55.0</td>\n",
       "      <td>2.0</td>\n",
       "      <td>None</td>\n",
       "      <td>1961.0</td>\n",
       "      <td>M</td>\n",
       "      <td>OS</td>\n",
       "      <td>93</td>\n",
       "      <td>B2</td>\n",
       "      <td>None</td>\n",
       "      <td>None</td>\n",
       "    </tr>\n",
       "    <tr>\n",
       "      <th>3</th>\n",
       "      <td>16.0</td>\n",
       "      <td>2016.0</td>\n",
       "      <td>4.0</td>\n",
       "      <td>101.0</td>\n",
       "      <td>101.0</td>\n",
       "      <td>NYC</td>\n",
       "      <td>1.0</td>\n",
       "      <td>MA</td>\n",
       "      <td>28.0</td>\n",
       "      <td>2.0</td>\n",
       "      <td>None</td>\n",
       "      <td>1988.0</td>\n",
       "      <td>None</td>\n",
       "      <td>AA</td>\n",
       "      <td>00199</td>\n",
       "      <td>B2</td>\n",
       "      <td>None</td>\n",
       "      <td>None</td>\n",
       "    </tr>\n",
       "    <tr>\n",
       "      <th>4</th>\n",
       "      <td>17.0</td>\n",
       "      <td>2016.0</td>\n",
       "      <td>4.0</td>\n",
       "      <td>101.0</td>\n",
       "      <td>101.0</td>\n",
       "      <td>NYC</td>\n",
       "      <td>1.0</td>\n",
       "      <td>MA</td>\n",
       "      <td>4.0</td>\n",
       "      <td>2.0</td>\n",
       "      <td>None</td>\n",
       "      <td>2012.0</td>\n",
       "      <td>None</td>\n",
       "      <td>AA</td>\n",
       "      <td>00199</td>\n",
       "      <td>B2</td>\n",
       "      <td>None</td>\n",
       "      <td>None</td>\n",
       "    </tr>\n",
       "  </tbody>\n",
       "</table>\n",
       "</div>"
      ],
      "text/plain": [
       "   Img_ID  Img_Year  Img_Month  Img_BCountry  Img_ResidenceCountry Img_City  \\\n",
       "0     6.0    2016.0        4.0         692.0                 692.0      XXX   \n",
       "1     7.0    2016.0        4.0         254.0                 276.0      ATL   \n",
       "2    15.0    2016.0        4.0         101.0                 101.0      WAS   \n",
       "3    16.0    2016.0        4.0         101.0                 101.0      NYC   \n",
       "4    17.0    2016.0        4.0         101.0                 101.0      NYC   \n",
       "\n",
       "   Transportation_Mode State_Arrival   Age  Visa_Codes OccupationState  \\\n",
       "0                  NaN          None  37.0         2.0            None   \n",
       "1                  1.0            AL  25.0         3.0            None   \n",
       "2                  1.0            MI  55.0         2.0            None   \n",
       "3                  1.0            MA  28.0         2.0            None   \n",
       "4                  1.0            MA   4.0         2.0            None   \n",
       "\n",
       "   Img_BYear Img_gender Airline Flight_Number Visa_Type Visa_Post INS_Number  \n",
       "0     1979.0       None    None          None        B2      None       None  \n",
       "1     1991.0          M    None         00296        F1       SEO       None  \n",
       "2     1961.0          M      OS            93        B2      None       None  \n",
       "3     1988.0       None      AA         00199        B2      None       None  \n",
       "4     2012.0       None      AA         00199        B2      None       None  "
      ]
     },
     "execution_count": 13,
     "metadata": {},
     "output_type": "execute_result"
    }
   ],
   "source": [
    "# Select Needed Columns and renaming them while loading using Exp\n",
    "Img_Clean_df = immigration_df.selectExpr('cicid as Img_ID'  , 'i94yr as Img_Year' ,'i94mon as Img_Month', 'i94cit as Img_BCountry',\n",
    "                     'i94res as Img_ResidenceCountry','i94port as Img_City', 'i94mode as Transportation_Mode',\n",
    "                      'i94addr as State_Arrival', 'i94bir as Age' ,'i94visa as Visa_Codes', \n",
    "                     'occup as OccupationState','biryear as Img_BYear',  'gender as Img_gender',\n",
    "                      'airline as Airline' , 'fltno as Flight_Number',  'visatype as Visa_Type' , 'visapost as Visa_Post' , 'insnum as INS_Number')\n",
    "\n",
    "Img_Clean_df.limit(5).toPandas()\n"
   ]
  },
  {
   "cell_type": "code",
   "execution_count": 14,
   "metadata": {
    "editable": true
   },
   "outputs": [
    {
     "data": {
      "text/plain": [
       "3096313"
      ]
     },
     "execution_count": 14,
     "metadata": {},
     "output_type": "execute_result"
    }
   ],
   "source": [
    "Img_Clean_df.count()"
   ]
  },
  {
   "cell_type": "code",
   "execution_count": 16,
   "metadata": {
    "editable": true
   },
   "outputs": [
    {
     "data": {
      "text/html": [
       "<div>\n",
       "<style scoped>\n",
       "    .dataframe tbody tr th:only-of-type {\n",
       "        vertical-align: middle;\n",
       "    }\n",
       "\n",
       "    .dataframe tbody tr th {\n",
       "        vertical-align: top;\n",
       "    }\n",
       "\n",
       "    .dataframe thead th {\n",
       "        text-align: right;\n",
       "    }\n",
       "</style>\n",
       "<table border=\"1\" class=\"dataframe\">\n",
       "  <thead>\n",
       "    <tr style=\"text-align: right;\">\n",
       "      <th></th>\n",
       "      <th>Visa_Post</th>\n",
       "      <th>count</th>\n",
       "    </tr>\n",
       "  </thead>\n",
       "  <tbody>\n",
       "    <tr>\n",
       "      <th>0</th>\n",
       "      <td>None</td>\n",
       "      <td>1881250</td>\n",
       "    </tr>\n",
       "    <tr>\n",
       "      <th>1</th>\n",
       "      <td>MEX</td>\n",
       "      <td>84720</td>\n",
       "    </tr>\n",
       "    <tr>\n",
       "      <th>2</th>\n",
       "      <td>SPL</td>\n",
       "      <td>65678</td>\n",
       "    </tr>\n",
       "    <tr>\n",
       "      <th>3</th>\n",
       "      <td>BNS</td>\n",
       "      <td>62032</td>\n",
       "    </tr>\n",
       "    <tr>\n",
       "      <th>4</th>\n",
       "      <td>GUZ</td>\n",
       "      <td>48298</td>\n",
       "    </tr>\n",
       "    <tr>\n",
       "      <th>5</th>\n",
       "      <td>BGT</td>\n",
       "      <td>46074</td>\n",
       "    </tr>\n",
       "    <tr>\n",
       "      <th>6</th>\n",
       "      <td>CRS</td>\n",
       "      <td>37137</td>\n",
       "    </tr>\n",
       "    <tr>\n",
       "      <th>7</th>\n",
       "      <td>BEJ</td>\n",
       "      <td>36703</td>\n",
       "    </tr>\n",
       "    <tr>\n",
       "      <th>8</th>\n",
       "      <td>SHG</td>\n",
       "      <td>35507</td>\n",
       "    </tr>\n",
       "    <tr>\n",
       "      <th>9</th>\n",
       "      <td>GDL</td>\n",
       "      <td>30970</td>\n",
       "    </tr>\n",
       "  </tbody>\n",
       "</table>\n",
       "</div>"
      ],
      "text/plain": [
       "  Visa_Post    count\n",
       "0      None  1881250\n",
       "1       MEX    84720\n",
       "2       SPL    65678\n",
       "3       BNS    62032\n",
       "4       GUZ    48298\n",
       "5       BGT    46074\n",
       "6       CRS    37137\n",
       "7       BEJ    36703\n",
       "8       SHG    35507\n",
       "9       GDL    30970"
      ]
     },
     "execution_count": 16,
     "metadata": {},
     "output_type": "execute_result"
    }
   ],
   "source": [
    "# Check for NaN values for Visa_Post , OccupationState , Img_gender\n",
    "Img_Clean_df.select('Visa_Post').groupBy('Visa_Post').count().sort(\"count\", ascending=False).limit(10).toPandas()"
   ]
  },
  {
   "cell_type": "code",
   "execution_count": 17,
   "metadata": {
    "editable": true
   },
   "outputs": [
    {
     "data": {
      "text/plain": [
       "'None % = 60.75774639062653%'"
      ]
     },
     "execution_count": 17,
     "metadata": {},
     "output_type": "execute_result"
    }
   ],
   "source": [
    "f\"None % = {1881250/3096313 *100}%\""
   ]
  },
  {
   "cell_type": "markdown",
   "metadata": {
    "editable": true
   },
   "source": [
    "> Nearly 60% of the data is None "
   ]
  },
  {
   "cell_type": "code",
   "execution_count": 18,
   "metadata": {
    "editable": true
   },
   "outputs": [
    {
     "data": {
      "text/html": [
       "<div>\n",
       "<style scoped>\n",
       "    .dataframe tbody tr th:only-of-type {\n",
       "        vertical-align: middle;\n",
       "    }\n",
       "\n",
       "    .dataframe tbody tr th {\n",
       "        vertical-align: top;\n",
       "    }\n",
       "\n",
       "    .dataframe thead th {\n",
       "        text-align: right;\n",
       "    }\n",
       "</style>\n",
       "<table border=\"1\" class=\"dataframe\">\n",
       "  <thead>\n",
       "    <tr style=\"text-align: right;\">\n",
       "      <th></th>\n",
       "      <th>INS_Number</th>\n",
       "      <th>count</th>\n",
       "    </tr>\n",
       "  </thead>\n",
       "  <tbody>\n",
       "    <tr>\n",
       "      <th>0</th>\n",
       "      <td>None</td>\n",
       "      <td>2982605</td>\n",
       "    </tr>\n",
       "    <tr>\n",
       "      <th>1</th>\n",
       "      <td>3692</td>\n",
       "      <td>2155</td>\n",
       "    </tr>\n",
       "    <tr>\n",
       "      <th>2</th>\n",
       "      <td>3697</td>\n",
       "      <td>2033</td>\n",
       "    </tr>\n",
       "    <tr>\n",
       "      <th>3</th>\n",
       "      <td>3703</td>\n",
       "      <td>1986</td>\n",
       "    </tr>\n",
       "    <tr>\n",
       "      <th>4</th>\n",
       "      <td>3893</td>\n",
       "      <td>1866</td>\n",
       "    </tr>\n",
       "    <tr>\n",
       "      <th>5</th>\n",
       "      <td>3661</td>\n",
       "      <td>1820</td>\n",
       "    </tr>\n",
       "    <tr>\n",
       "      <th>6</th>\n",
       "      <td>3693</td>\n",
       "      <td>1690</td>\n",
       "    </tr>\n",
       "    <tr>\n",
       "      <th>7</th>\n",
       "      <td>3939</td>\n",
       "      <td>1680</td>\n",
       "    </tr>\n",
       "    <tr>\n",
       "      <th>8</th>\n",
       "      <td>3672</td>\n",
       "      <td>1678</td>\n",
       "    </tr>\n",
       "    <tr>\n",
       "      <th>9</th>\n",
       "      <td>3882</td>\n",
       "      <td>1673</td>\n",
       "    </tr>\n",
       "  </tbody>\n",
       "</table>\n",
       "</div>"
      ],
      "text/plain": [
       "  INS_Number    count\n",
       "0       None  2982605\n",
       "1       3692     2155\n",
       "2       3697     2033\n",
       "3       3703     1986\n",
       "4       3893     1866\n",
       "5       3661     1820\n",
       "6       3693     1690\n",
       "7       3939     1680\n",
       "8       3672     1678\n",
       "9       3882     1673"
      ]
     },
     "execution_count": 18,
     "metadata": {},
     "output_type": "execute_result"
    }
   ],
   "source": [
    "Img_Clean_df.select('INS_Number').groupBy('INS_Number').count().sort(\"count\", ascending=False).limit(10).toPandas()"
   ]
  },
  {
   "cell_type": "code",
   "execution_count": 19,
   "metadata": {
    "editable": true
   },
   "outputs": [
    {
     "data": {
      "text/plain": [
       "'None % = 94.18937943289325%'"
      ]
     },
     "execution_count": 19,
     "metadata": {},
     "output_type": "execute_result"
    }
   ],
   "source": [
    "f\"None % = {2916398/3096313 *100}%\""
   ]
  },
  {
   "cell_type": "markdown",
   "metadata": {
    "editable": true
   },
   "source": [
    "> Nearly 94% of the data is None so we will delete this column"
   ]
  },
  {
   "cell_type": "code",
   "execution_count": 20,
   "metadata": {
    "editable": true
   },
   "outputs": [
    {
     "data": {
      "text/html": [
       "<div>\n",
       "<style scoped>\n",
       "    .dataframe tbody tr th:only-of-type {\n",
       "        vertical-align: middle;\n",
       "    }\n",
       "\n",
       "    .dataframe tbody tr th {\n",
       "        vertical-align: top;\n",
       "    }\n",
       "\n",
       "    .dataframe thead th {\n",
       "        text-align: right;\n",
       "    }\n",
       "</style>\n",
       "<table border=\"1\" class=\"dataframe\">\n",
       "  <thead>\n",
       "    <tr style=\"text-align: right;\">\n",
       "      <th></th>\n",
       "      <th>OccupationState</th>\n",
       "      <th>count</th>\n",
       "    </tr>\n",
       "  </thead>\n",
       "  <tbody>\n",
       "    <tr>\n",
       "      <th>0</th>\n",
       "      <td>None</td>\n",
       "      <td>3088187</td>\n",
       "    </tr>\n",
       "    <tr>\n",
       "      <th>1</th>\n",
       "      <td>STU</td>\n",
       "      <td>4719</td>\n",
       "    </tr>\n",
       "    <tr>\n",
       "      <th>2</th>\n",
       "      <td>OTH</td>\n",
       "      <td>661</td>\n",
       "    </tr>\n",
       "    <tr>\n",
       "      <th>3</th>\n",
       "      <td>NRR</td>\n",
       "      <td>345</td>\n",
       "    </tr>\n",
       "    <tr>\n",
       "      <th>4</th>\n",
       "      <td>MKT</td>\n",
       "      <td>280</td>\n",
       "    </tr>\n",
       "    <tr>\n",
       "      <th>5</th>\n",
       "      <td>EXA</td>\n",
       "      <td>196</td>\n",
       "    </tr>\n",
       "    <tr>\n",
       "      <th>6</th>\n",
       "      <td>GLS</td>\n",
       "      <td>189</td>\n",
       "    </tr>\n",
       "    <tr>\n",
       "      <th>7</th>\n",
       "      <td>ULS</td>\n",
       "      <td>175</td>\n",
       "    </tr>\n",
       "    <tr>\n",
       "      <th>8</th>\n",
       "      <td>ADM</td>\n",
       "      <td>125</td>\n",
       "    </tr>\n",
       "    <tr>\n",
       "      <th>9</th>\n",
       "      <td>TIE</td>\n",
       "      <td>124</td>\n",
       "    </tr>\n",
       "  </tbody>\n",
       "</table>\n",
       "</div>"
      ],
      "text/plain": [
       "  OccupationState    count\n",
       "0            None  3088187\n",
       "1             STU     4719\n",
       "2             OTH      661\n",
       "3             NRR      345\n",
       "4             MKT      280\n",
       "5             EXA      196\n",
       "6             GLS      189\n",
       "7             ULS      175\n",
       "8             ADM      125\n",
       "9             TIE      124"
      ]
     },
     "execution_count": 20,
     "metadata": {},
     "output_type": "execute_result"
    }
   ],
   "source": [
    "Img_Clean_df.select('OccupationState').groupBy('OccupationState').count().sort(\"count\", ascending=False).limit(10).toPandas()"
   ]
  },
  {
   "cell_type": "code",
   "execution_count": 21,
   "metadata": {
    "editable": true
   },
   "outputs": [
    {
     "data": {
      "text/plain": [
       "'None % = 99.73755883206898%'"
      ]
     },
     "execution_count": 21,
     "metadata": {},
     "output_type": "execute_result"
    }
   ],
   "source": [
    "f\"None % = {3088187/3096313 *100}%\""
   ]
  },
  {
   "cell_type": "code",
   "execution_count": 22,
   "metadata": {
    "editable": true
   },
   "outputs": [
    {
     "data": {
      "text/html": [
       "<div>\n",
       "<style scoped>\n",
       "    .dataframe tbody tr th:only-of-type {\n",
       "        vertical-align: middle;\n",
       "    }\n",
       "\n",
       "    .dataframe tbody tr th {\n",
       "        vertical-align: top;\n",
       "    }\n",
       "\n",
       "    .dataframe thead th {\n",
       "        text-align: right;\n",
       "    }\n",
       "</style>\n",
       "<table border=\"1\" class=\"dataframe\">\n",
       "  <thead>\n",
       "    <tr style=\"text-align: right;\">\n",
       "      <th></th>\n",
       "      <th>Img_gender</th>\n",
       "      <th>count</th>\n",
       "    </tr>\n",
       "  </thead>\n",
       "  <tbody>\n",
       "    <tr>\n",
       "      <th>0</th>\n",
       "      <td>M</td>\n",
       "      <td>1377224</td>\n",
       "    </tr>\n",
       "    <tr>\n",
       "      <th>1</th>\n",
       "      <td>F</td>\n",
       "      <td>1302743</td>\n",
       "    </tr>\n",
       "    <tr>\n",
       "      <th>2</th>\n",
       "      <td>None</td>\n",
       "      <td>414269</td>\n",
       "    </tr>\n",
       "    <tr>\n",
       "      <th>3</th>\n",
       "      <td>X</td>\n",
       "      <td>1610</td>\n",
       "    </tr>\n",
       "    <tr>\n",
       "      <th>4</th>\n",
       "      <td>U</td>\n",
       "      <td>467</td>\n",
       "    </tr>\n",
       "  </tbody>\n",
       "</table>\n",
       "</div>"
      ],
      "text/plain": [
       "  Img_gender    count\n",
       "0          M  1377224\n",
       "1          F  1302743\n",
       "2       None   414269\n",
       "3          X     1610\n",
       "4          U      467"
      ]
     },
     "execution_count": 22,
     "metadata": {},
     "output_type": "execute_result"
    }
   ],
   "source": [
    "Img_Clean_df.select('Img_gender').groupBy('Img_gender').count().sort(\"count\", ascending=False).limit(10).toPandas()"
   ]
  },
  {
   "cell_type": "markdown",
   "metadata": {
    "editable": true
   },
   "source": [
    "> As per our Exploration we will exclude OccupationState and Visa_Department columns"
   ]
  },
  {
   "cell_type": "code",
   "execution_count": 23,
   "metadata": {
    "editable": true
   },
   "outputs": [],
   "source": [
    "columns_to_drop = ['OccupationState','INS_Number']\n",
    "Img_Clean_df = Img_Clean_df.drop(*columns_to_drop)"
   ]
  },
  {
   "cell_type": "code",
   "execution_count": 24,
   "metadata": {
    "editable": true
   },
   "outputs": [
    {
     "data": {
      "text/plain": [
       "83627"
      ]
     },
     "execution_count": 24,
     "metadata": {},
     "output_type": "execute_result"
    }
   ],
   "source": [
    "Img_Clean_df.where(col(\"Airline\").isNull()).count()"
   ]
  },
  {
   "cell_type": "code",
   "execution_count": 25,
   "metadata": {
    "editable": true
   },
   "outputs": [
    {
     "data": {
      "text/html": [
       "<div>\n",
       "<style scoped>\n",
       "    .dataframe tbody tr th:only-of-type {\n",
       "        vertical-align: middle;\n",
       "    }\n",
       "\n",
       "    .dataframe tbody tr th {\n",
       "        vertical-align: top;\n",
       "    }\n",
       "\n",
       "    .dataframe thead th {\n",
       "        text-align: right;\n",
       "    }\n",
       "</style>\n",
       "<table border=\"1\" class=\"dataframe\">\n",
       "  <thead>\n",
       "    <tr style=\"text-align: right;\">\n",
       "      <th></th>\n",
       "      <th>Img_ID</th>\n",
       "      <th>Img_Year</th>\n",
       "      <th>Img_Month</th>\n",
       "      <th>Img_BCountry</th>\n",
       "      <th>Img_ResidenceCountry</th>\n",
       "      <th>Img_City</th>\n",
       "      <th>Transportation_Mode</th>\n",
       "      <th>State_Arrival</th>\n",
       "      <th>Age</th>\n",
       "      <th>Visa_Codes</th>\n",
       "      <th>Img_BYear</th>\n",
       "      <th>Img_gender</th>\n",
       "      <th>Airline</th>\n",
       "      <th>Flight_Number</th>\n",
       "      <th>Visa_Type</th>\n",
       "      <th>Visa_Post</th>\n",
       "    </tr>\n",
       "  </thead>\n",
       "  <tbody>\n",
       "    <tr>\n",
       "      <th>0</th>\n",
       "      <td>6.0</td>\n",
       "      <td>2016.0</td>\n",
       "      <td>4.0</td>\n",
       "      <td>692.0</td>\n",
       "      <td>692.0</td>\n",
       "      <td>XXX</td>\n",
       "      <td>NaN</td>\n",
       "      <td>None</td>\n",
       "      <td>37.0</td>\n",
       "      <td>2.0</td>\n",
       "      <td>1979.0</td>\n",
       "      <td>None</td>\n",
       "      <td>None</td>\n",
       "      <td>None</td>\n",
       "      <td>B2</td>\n",
       "      <td>None</td>\n",
       "    </tr>\n",
       "    <tr>\n",
       "      <th>1</th>\n",
       "      <td>7.0</td>\n",
       "      <td>2016.0</td>\n",
       "      <td>4.0</td>\n",
       "      <td>254.0</td>\n",
       "      <td>276.0</td>\n",
       "      <td>ATL</td>\n",
       "      <td>1.0</td>\n",
       "      <td>AL</td>\n",
       "      <td>25.0</td>\n",
       "      <td>3.0</td>\n",
       "      <td>1991.0</td>\n",
       "      <td>M</td>\n",
       "      <td>None</td>\n",
       "      <td>00296</td>\n",
       "      <td>F1</td>\n",
       "      <td>SEO</td>\n",
       "    </tr>\n",
       "    <tr>\n",
       "      <th>2</th>\n",
       "      <td>15.0</td>\n",
       "      <td>2016.0</td>\n",
       "      <td>4.0</td>\n",
       "      <td>101.0</td>\n",
       "      <td>101.0</td>\n",
       "      <td>WAS</td>\n",
       "      <td>1.0</td>\n",
       "      <td>MI</td>\n",
       "      <td>55.0</td>\n",
       "      <td>2.0</td>\n",
       "      <td>1961.0</td>\n",
       "      <td>M</td>\n",
       "      <td>OS</td>\n",
       "      <td>93</td>\n",
       "      <td>B2</td>\n",
       "      <td>None</td>\n",
       "    </tr>\n",
       "    <tr>\n",
       "      <th>3</th>\n",
       "      <td>16.0</td>\n",
       "      <td>2016.0</td>\n",
       "      <td>4.0</td>\n",
       "      <td>101.0</td>\n",
       "      <td>101.0</td>\n",
       "      <td>NYC</td>\n",
       "      <td>1.0</td>\n",
       "      <td>MA</td>\n",
       "      <td>28.0</td>\n",
       "      <td>2.0</td>\n",
       "      <td>1988.0</td>\n",
       "      <td>None</td>\n",
       "      <td>AA</td>\n",
       "      <td>00199</td>\n",
       "      <td>B2</td>\n",
       "      <td>None</td>\n",
       "    </tr>\n",
       "    <tr>\n",
       "      <th>4</th>\n",
       "      <td>17.0</td>\n",
       "      <td>2016.0</td>\n",
       "      <td>4.0</td>\n",
       "      <td>101.0</td>\n",
       "      <td>101.0</td>\n",
       "      <td>NYC</td>\n",
       "      <td>1.0</td>\n",
       "      <td>MA</td>\n",
       "      <td>4.0</td>\n",
       "      <td>2.0</td>\n",
       "      <td>2012.0</td>\n",
       "      <td>None</td>\n",
       "      <td>AA</td>\n",
       "      <td>00199</td>\n",
       "      <td>B2</td>\n",
       "      <td>None</td>\n",
       "    </tr>\n",
       "  </tbody>\n",
       "</table>\n",
       "</div>"
      ],
      "text/plain": [
       "   Img_ID  Img_Year  Img_Month  Img_BCountry  Img_ResidenceCountry Img_City  \\\n",
       "0     6.0    2016.0        4.0         692.0                 692.0      XXX   \n",
       "1     7.0    2016.0        4.0         254.0                 276.0      ATL   \n",
       "2    15.0    2016.0        4.0         101.0                 101.0      WAS   \n",
       "3    16.0    2016.0        4.0         101.0                 101.0      NYC   \n",
       "4    17.0    2016.0        4.0         101.0                 101.0      NYC   \n",
       "\n",
       "   Transportation_Mode State_Arrival   Age  Visa_Codes  Img_BYear Img_gender  \\\n",
       "0                  NaN          None  37.0         2.0     1979.0       None   \n",
       "1                  1.0            AL  25.0         3.0     1991.0          M   \n",
       "2                  1.0            MI  55.0         2.0     1961.0          M   \n",
       "3                  1.0            MA  28.0         2.0     1988.0       None   \n",
       "4                  1.0            MA   4.0         2.0     2012.0       None   \n",
       "\n",
       "  Airline Flight_Number Visa_Type Visa_Post  \n",
       "0    None          None        B2      None  \n",
       "1    None         00296        F1       SEO  \n",
       "2      OS            93        B2      None  \n",
       "3      AA         00199        B2      None  \n",
       "4      AA         00199        B2      None  "
      ]
     },
     "execution_count": 25,
     "metadata": {},
     "output_type": "execute_result"
    }
   ],
   "source": [
    "Img_Clean_df.limit(5).toPandas()"
   ]
  },
  {
   "cell_type": "code",
   "execution_count": 26,
   "metadata": {
    "editable": true
   },
   "outputs": [],
   "source": [
    "Img_Clean_df = Img_Clean_df.na.drop(subset=[\"Airline\"])"
   ]
  },
  {
   "cell_type": "code",
   "execution_count": 27,
   "metadata": {
    "editable": true
   },
   "outputs": [
    {
     "data": {
      "text/plain": [
       "0"
      ]
     },
     "execution_count": 27,
     "metadata": {},
     "output_type": "execute_result"
    }
   ],
   "source": [
    "Img_Clean_df.where(col(\"Airline\").isNull()).count()"
   ]
  },
  {
   "cell_type": "markdown",
   "metadata": {
    "editable": true
   },
   "source": [
    "#### 2) U.S. City Demographic Data"
   ]
  },
  {
   "cell_type": "code",
   "execution_count": 28,
   "metadata": {
    "editable": true
   },
   "outputs": [],
   "source": [
    "# Read CSV\n",
    "cities_df = spark.read.option(\"delimiter\"  , \";\"  ).option(\"Header\" , True).csv('us-cities-demographics.csv' )\n",
    "cities_df.limit(5).toPandas()\n",
    "\n",
    "#Rename Columns\n",
    "cities_df = cities_df.withColumnRenamed(\"Median Age\",\"Median_Age\") \\\n",
    "    .withColumnRenamed(\"Male Population\",\"Male_Population\") \\\n",
    "    .withColumnRenamed(\"Female Population\",\"Female_Population\") \\\n",
    "    .withColumnRenamed(\"Total Population\",\"Total_Population\") \\\n",
    "    .withColumnRenamed(\"Number of Veterans\",\"Num_Veterans\") \\\n",
    "    .withColumnRenamed(\"Foreign-born\",\"Foreign_born\") \\\n",
    "    .withColumnRenamed(\"Average Household Size\",\"Average_Household_Size\") \\\n",
    "    .withColumnRenamed(\"State Code\",\"State_Code\")\n"
   ]
  },
  {
   "cell_type": "code",
   "execution_count": 29,
   "metadata": {
    "editable": true
   },
   "outputs": [
    {
     "data": {
      "text/html": [
       "<div>\n",
       "<style scoped>\n",
       "    .dataframe tbody tr th:only-of-type {\n",
       "        vertical-align: middle;\n",
       "    }\n",
       "\n",
       "    .dataframe tbody tr th {\n",
       "        vertical-align: top;\n",
       "    }\n",
       "\n",
       "    .dataframe thead th {\n",
       "        text-align: right;\n",
       "    }\n",
       "</style>\n",
       "<table border=\"1\" class=\"dataframe\">\n",
       "  <thead>\n",
       "    <tr style=\"text-align: right;\">\n",
       "      <th></th>\n",
       "      <th>City</th>\n",
       "      <th>State</th>\n",
       "      <th>Median_Age</th>\n",
       "      <th>Male_Population</th>\n",
       "      <th>Female_Population</th>\n",
       "      <th>Total_Population</th>\n",
       "      <th>Num_Veterans</th>\n",
       "      <th>Foreign_born</th>\n",
       "      <th>Average_Household_Size</th>\n",
       "      <th>State_Code</th>\n",
       "      <th>Race</th>\n",
       "      <th>Count</th>\n",
       "    </tr>\n",
       "  </thead>\n",
       "  <tbody>\n",
       "    <tr>\n",
       "      <th>0</th>\n",
       "      <td>Silver Spring</td>\n",
       "      <td>Maryland</td>\n",
       "      <td>33.8</td>\n",
       "      <td>40601</td>\n",
       "      <td>41862</td>\n",
       "      <td>82463</td>\n",
       "      <td>1562</td>\n",
       "      <td>30908</td>\n",
       "      <td>2.6</td>\n",
       "      <td>MD</td>\n",
       "      <td>Hispanic or Latino</td>\n",
       "      <td>25924</td>\n",
       "    </tr>\n",
       "    <tr>\n",
       "      <th>1</th>\n",
       "      <td>Quincy</td>\n",
       "      <td>Massachusetts</td>\n",
       "      <td>41.0</td>\n",
       "      <td>44129</td>\n",
       "      <td>49500</td>\n",
       "      <td>93629</td>\n",
       "      <td>4147</td>\n",
       "      <td>32935</td>\n",
       "      <td>2.39</td>\n",
       "      <td>MA</td>\n",
       "      <td>White</td>\n",
       "      <td>58723</td>\n",
       "    </tr>\n",
       "    <tr>\n",
       "      <th>2</th>\n",
       "      <td>Hoover</td>\n",
       "      <td>Alabama</td>\n",
       "      <td>38.5</td>\n",
       "      <td>38040</td>\n",
       "      <td>46799</td>\n",
       "      <td>84839</td>\n",
       "      <td>4819</td>\n",
       "      <td>8229</td>\n",
       "      <td>2.58</td>\n",
       "      <td>AL</td>\n",
       "      <td>Asian</td>\n",
       "      <td>4759</td>\n",
       "    </tr>\n",
       "    <tr>\n",
       "      <th>3</th>\n",
       "      <td>Rancho Cucamonga</td>\n",
       "      <td>California</td>\n",
       "      <td>34.5</td>\n",
       "      <td>88127</td>\n",
       "      <td>87105</td>\n",
       "      <td>175232</td>\n",
       "      <td>5821</td>\n",
       "      <td>33878</td>\n",
       "      <td>3.18</td>\n",
       "      <td>CA</td>\n",
       "      <td>Black or African-American</td>\n",
       "      <td>24437</td>\n",
       "    </tr>\n",
       "    <tr>\n",
       "      <th>4</th>\n",
       "      <td>Newark</td>\n",
       "      <td>New Jersey</td>\n",
       "      <td>34.6</td>\n",
       "      <td>138040</td>\n",
       "      <td>143873</td>\n",
       "      <td>281913</td>\n",
       "      <td>5829</td>\n",
       "      <td>86253</td>\n",
       "      <td>2.73</td>\n",
       "      <td>NJ</td>\n",
       "      <td>White</td>\n",
       "      <td>76402</td>\n",
       "    </tr>\n",
       "  </tbody>\n",
       "</table>\n",
       "</div>"
      ],
      "text/plain": [
       "               City          State Median_Age Male_Population  \\\n",
       "0     Silver Spring       Maryland       33.8           40601   \n",
       "1            Quincy  Massachusetts       41.0           44129   \n",
       "2            Hoover        Alabama       38.5           38040   \n",
       "3  Rancho Cucamonga     California       34.5           88127   \n",
       "4            Newark     New Jersey       34.6          138040   \n",
       "\n",
       "  Female_Population Total_Population Num_Veterans Foreign_born  \\\n",
       "0             41862            82463         1562        30908   \n",
       "1             49500            93629         4147        32935   \n",
       "2             46799            84839         4819         8229   \n",
       "3             87105           175232         5821        33878   \n",
       "4            143873           281913         5829        86253   \n",
       "\n",
       "  Average_Household_Size State_Code                       Race  Count  \n",
       "0                    2.6         MD         Hispanic or Latino  25924  \n",
       "1                   2.39         MA                      White  58723  \n",
       "2                   2.58         AL                      Asian   4759  \n",
       "3                   3.18         CA  Black or African-American  24437  \n",
       "4                   2.73         NJ                      White  76402  "
      ]
     },
     "execution_count": 29,
     "metadata": {},
     "output_type": "execute_result"
    }
   ],
   "source": [
    "cities_df.limit(5).toPandas()"
   ]
  },
  {
   "cell_type": "markdown",
   "metadata": {
    "editable": true
   },
   "source": [
    "### We will group our data by State and take the avg of the statistics "
   ]
  },
  {
   "cell_type": "code",
   "execution_count": 30,
   "metadata": {
    "editable": true
   },
   "outputs": [],
   "source": [
    "cities_df.createOrReplaceTempView(\"city_view\")\n",
    "\n",
    "cities_df = spark.sql(\"\"\"\n",
    "SELECT  State_Code ,\n",
    "        MAX(State) AS State_Name ,\n",
    "        COUNT(*) AS Num_Cities ,\n",
    "        AVG(Median_Age) AS AVG_Median_Age ,\n",
    "        AVG(Male_Population) AS AVG_Male_Population,\n",
    "        AVG(Female_Population) AS AVG_Female_Population ,\n",
    "        INT(SUM(Total_Population)) AS Total_Population , \n",
    "        INT(SUM(Num_Veterans)) AS Num_Veterans,\n",
    "        INT(SUM(Foreign_born)) AS Foreign_born,\n",
    "        AVG(Average_Household_Size) AS Average_Household_Size\n",
    "FROM  city_view\n",
    "GROUP BY  State_Code\n",
    "LIMIT 5\n",
    "\"\"\")"
   ]
  },
  {
   "cell_type": "code",
   "execution_count": 31,
   "metadata": {
    "editable": true
   },
   "outputs": [
    {
     "data": {
      "text/html": [
       "<div>\n",
       "<style scoped>\n",
       "    .dataframe tbody tr th:only-of-type {\n",
       "        vertical-align: middle;\n",
       "    }\n",
       "\n",
       "    .dataframe tbody tr th {\n",
       "        vertical-align: top;\n",
       "    }\n",
       "\n",
       "    .dataframe thead th {\n",
       "        text-align: right;\n",
       "    }\n",
       "</style>\n",
       "<table border=\"1\" class=\"dataframe\">\n",
       "  <thead>\n",
       "    <tr style=\"text-align: right;\">\n",
       "      <th></th>\n",
       "      <th>State_Code</th>\n",
       "      <th>State_Name</th>\n",
       "      <th>Num_Cities</th>\n",
       "      <th>AVG_Median_Age</th>\n",
       "      <th>AVG_Male_Population</th>\n",
       "      <th>AVG_Female_Population</th>\n",
       "      <th>Total_Population</th>\n",
       "      <th>Num_Veterans</th>\n",
       "      <th>Foreign_born</th>\n",
       "      <th>Average_Household_Size</th>\n",
       "    </tr>\n",
       "  </thead>\n",
       "  <tbody>\n",
       "    <tr>\n",
       "      <th>0</th>\n",
       "      <td>AZ</td>\n",
       "      <td>Arizona</td>\n",
       "      <td>80</td>\n",
       "      <td>35.037500</td>\n",
       "      <td>139215.937500</td>\n",
       "      <td>142005.437500</td>\n",
       "      <td>22497710</td>\n",
       "      <td>1322525</td>\n",
       "      <td>3411565</td>\n",
       "      <td>2.774375</td>\n",
       "    </tr>\n",
       "    <tr>\n",
       "      <th>1</th>\n",
       "      <td>SC</td>\n",
       "      <td>South Carolina</td>\n",
       "      <td>24</td>\n",
       "      <td>33.825000</td>\n",
       "      <td>52720.458333</td>\n",
       "      <td>55070.208333</td>\n",
       "      <td>2586976</td>\n",
       "      <td>163334</td>\n",
       "      <td>134019</td>\n",
       "      <td>2.469583</td>\n",
       "    </tr>\n",
       "    <tr>\n",
       "      <th>2</th>\n",
       "      <td>LA</td>\n",
       "      <td>Louisiana</td>\n",
       "      <td>40</td>\n",
       "      <td>34.625000</td>\n",
       "      <td>78374.750000</td>\n",
       "      <td>84199.625000</td>\n",
       "      <td>6502975</td>\n",
       "      <td>348855</td>\n",
       "      <td>417095</td>\n",
       "      <td>2.465000</td>\n",
       "    </tr>\n",
       "    <tr>\n",
       "      <th>3</th>\n",
       "      <td>MN</td>\n",
       "      <td>Minnesota</td>\n",
       "      <td>54</td>\n",
       "      <td>35.579630</td>\n",
       "      <td>64422.277778</td>\n",
       "      <td>66025.222222</td>\n",
       "      <td>7044165</td>\n",
       "      <td>321738</td>\n",
       "      <td>1069888</td>\n",
       "      <td>2.496852</td>\n",
       "    </tr>\n",
       "    <tr>\n",
       "      <th>4</th>\n",
       "      <td>NJ</td>\n",
       "      <td>New Jersey</td>\n",
       "      <td>57</td>\n",
       "      <td>35.254386</td>\n",
       "      <td>60053.210526</td>\n",
       "      <td>61543.701754</td>\n",
       "      <td>6931024</td>\n",
       "      <td>146632</td>\n",
       "      <td>2327750</td>\n",
       "      <td>2.960877</td>\n",
       "    </tr>\n",
       "  </tbody>\n",
       "</table>\n",
       "</div>"
      ],
      "text/plain": [
       "  State_Code      State_Name  Num_Cities  AVG_Median_Age  AVG_Male_Population  \\\n",
       "0         AZ         Arizona          80       35.037500        139215.937500   \n",
       "1         SC  South Carolina          24       33.825000         52720.458333   \n",
       "2         LA       Louisiana          40       34.625000         78374.750000   \n",
       "3         MN       Minnesota          54       35.579630         64422.277778   \n",
       "4         NJ      New Jersey          57       35.254386         60053.210526   \n",
       "\n",
       "   AVG_Female_Population  Total_Population  Num_Veterans  Foreign_born  \\\n",
       "0          142005.437500          22497710       1322525       3411565   \n",
       "1           55070.208333           2586976        163334        134019   \n",
       "2           84199.625000           6502975        348855        417095   \n",
       "3           66025.222222           7044165        321738       1069888   \n",
       "4           61543.701754           6931024        146632       2327750   \n",
       "\n",
       "   Average_Household_Size  \n",
       "0                2.774375  \n",
       "1                2.469583  \n",
       "2                2.465000  \n",
       "3                2.496852  \n",
       "4                2.960877  "
      ]
     },
     "execution_count": 31,
     "metadata": {},
     "output_type": "execute_result"
    }
   ],
   "source": [
    "cities_df.limit(10).toPandas()"
   ]
  },
  {
   "cell_type": "markdown",
   "metadata": {
    "editable": true
   },
   "source": [
    "### 3) Airport Code Table"
   ]
  },
  {
   "cell_type": "code",
   "execution_count": 22,
   "metadata": {
    "editable": true
   },
   "outputs": [
    {
     "data": {
      "text/html": [
       "<div>\n",
       "<style scoped>\n",
       "    .dataframe tbody tr th:only-of-type {\n",
       "        vertical-align: middle;\n",
       "    }\n",
       "\n",
       "    .dataframe tbody tr th {\n",
       "        vertical-align: top;\n",
       "    }\n",
       "\n",
       "    .dataframe thead th {\n",
       "        text-align: right;\n",
       "    }\n",
       "</style>\n",
       "<table border=\"1\" class=\"dataframe\">\n",
       "  <thead>\n",
       "    <tr style=\"text-align: right;\">\n",
       "      <th></th>\n",
       "      <th>ident</th>\n",
       "      <th>type</th>\n",
       "      <th>name</th>\n",
       "      <th>elevation_ft</th>\n",
       "      <th>continent</th>\n",
       "      <th>iso_country</th>\n",
       "      <th>iso_region</th>\n",
       "      <th>municipality</th>\n",
       "      <th>gps_code</th>\n",
       "      <th>iata_code</th>\n",
       "      <th>local_code</th>\n",
       "      <th>coordinates</th>\n",
       "    </tr>\n",
       "  </thead>\n",
       "  <tbody>\n",
       "    <tr>\n",
       "      <th>0</th>\n",
       "      <td>00A</td>\n",
       "      <td>heliport</td>\n",
       "      <td>Total Rf Heliport</td>\n",
       "      <td>11</td>\n",
       "      <td>NA</td>\n",
       "      <td>US</td>\n",
       "      <td>US-PA</td>\n",
       "      <td>Bensalem</td>\n",
       "      <td>00A</td>\n",
       "      <td>None</td>\n",
       "      <td>00A</td>\n",
       "      <td>-74.93360137939453, 40.07080078125</td>\n",
       "    </tr>\n",
       "    <tr>\n",
       "      <th>1</th>\n",
       "      <td>00AA</td>\n",
       "      <td>small_airport</td>\n",
       "      <td>Aero B Ranch Airport</td>\n",
       "      <td>3435</td>\n",
       "      <td>NA</td>\n",
       "      <td>US</td>\n",
       "      <td>US-KS</td>\n",
       "      <td>Leoti</td>\n",
       "      <td>00AA</td>\n",
       "      <td>None</td>\n",
       "      <td>00AA</td>\n",
       "      <td>-101.473911, 38.704022</td>\n",
       "    </tr>\n",
       "    <tr>\n",
       "      <th>2</th>\n",
       "      <td>00AK</td>\n",
       "      <td>small_airport</td>\n",
       "      <td>Lowell Field</td>\n",
       "      <td>450</td>\n",
       "      <td>NA</td>\n",
       "      <td>US</td>\n",
       "      <td>US-AK</td>\n",
       "      <td>Anchor Point</td>\n",
       "      <td>00AK</td>\n",
       "      <td>None</td>\n",
       "      <td>00AK</td>\n",
       "      <td>-151.695999146, 59.94919968</td>\n",
       "    </tr>\n",
       "    <tr>\n",
       "      <th>3</th>\n",
       "      <td>00AL</td>\n",
       "      <td>small_airport</td>\n",
       "      <td>Epps Airpark</td>\n",
       "      <td>820</td>\n",
       "      <td>NA</td>\n",
       "      <td>US</td>\n",
       "      <td>US-AL</td>\n",
       "      <td>Harvest</td>\n",
       "      <td>00AL</td>\n",
       "      <td>None</td>\n",
       "      <td>00AL</td>\n",
       "      <td>-86.77030181884766, 34.86479949951172</td>\n",
       "    </tr>\n",
       "    <tr>\n",
       "      <th>4</th>\n",
       "      <td>00AR</td>\n",
       "      <td>closed</td>\n",
       "      <td>Newport Hospital &amp; Clinic Heliport</td>\n",
       "      <td>237</td>\n",
       "      <td>NA</td>\n",
       "      <td>US</td>\n",
       "      <td>US-AR</td>\n",
       "      <td>Newport</td>\n",
       "      <td>None</td>\n",
       "      <td>None</td>\n",
       "      <td>None</td>\n",
       "      <td>-91.254898, 35.6087</td>\n",
       "    </tr>\n",
       "  </tbody>\n",
       "</table>\n",
       "</div>"
      ],
      "text/plain": [
       "  ident           type                                name elevation_ft  \\\n",
       "0   00A       heliport                   Total Rf Heliport           11   \n",
       "1  00AA  small_airport                Aero B Ranch Airport         3435   \n",
       "2  00AK  small_airport                        Lowell Field          450   \n",
       "3  00AL  small_airport                        Epps Airpark          820   \n",
       "4  00AR         closed  Newport Hospital & Clinic Heliport          237   \n",
       "\n",
       "  continent iso_country iso_region  municipality gps_code iata_code  \\\n",
       "0        NA          US      US-PA      Bensalem      00A      None   \n",
       "1        NA          US      US-KS         Leoti     00AA      None   \n",
       "2        NA          US      US-AK  Anchor Point     00AK      None   \n",
       "3        NA          US      US-AL       Harvest     00AL      None   \n",
       "4        NA          US      US-AR       Newport     None      None   \n",
       "\n",
       "  local_code                            coordinates  \n",
       "0        00A     -74.93360137939453, 40.07080078125  \n",
       "1       00AA                 -101.473911, 38.704022  \n",
       "2       00AK            -151.695999146, 59.94919968  \n",
       "3       00AL  -86.77030181884766, 34.86479949951172  \n",
       "4       None                    -91.254898, 35.6087  "
      ]
     },
     "execution_count": 22,
     "metadata": {},
     "output_type": "execute_result"
    }
   ],
   "source": [
    "Airport_df = spark.read.option(\"Header\" , True).csv('airport-codes_csv.csv' )\n",
    "Airport_df.limit(5).toPandas()"
   ]
  },
  {
   "cell_type": "markdown",
   "metadata": {
    "editable": true
   },
   "source": [
    "##### Data Exploration"
   ]
  },
  {
   "cell_type": "code",
   "execution_count": 32,
   "metadata": {
    "editable": true
   },
   "outputs": [
    {
     "data": {
      "text/html": [
       "<div>\n",
       "<style scoped>\n",
       "    .dataframe tbody tr th:only-of-type {\n",
       "        vertical-align: middle;\n",
       "    }\n",
       "\n",
       "    .dataframe tbody tr th {\n",
       "        vertical-align: top;\n",
       "    }\n",
       "\n",
       "    .dataframe thead th {\n",
       "        text-align: right;\n",
       "    }\n",
       "</style>\n",
       "<table border=\"1\" class=\"dataframe\">\n",
       "  <thead>\n",
       "    <tr style=\"text-align: right;\">\n",
       "      <th></th>\n",
       "      <th>continent</th>\n",
       "      <th>count</th>\n",
       "    </tr>\n",
       "  </thead>\n",
       "  <tbody>\n",
       "    <tr>\n",
       "      <th>0</th>\n",
       "      <td>NA</td>\n",
       "      <td>27719</td>\n",
       "    </tr>\n",
       "    <tr>\n",
       "      <th>1</th>\n",
       "      <td>SA</td>\n",
       "      <td>7709</td>\n",
       "    </tr>\n",
       "    <tr>\n",
       "      <th>2</th>\n",
       "      <td>AS</td>\n",
       "      <td>5350</td>\n",
       "    </tr>\n",
       "    <tr>\n",
       "      <th>3</th>\n",
       "      <td>AN</td>\n",
       "      <td>28</td>\n",
       "    </tr>\n",
       "    <tr>\n",
       "      <th>4</th>\n",
       "      <td>OC</td>\n",
       "      <td>3067</td>\n",
       "    </tr>\n",
       "    <tr>\n",
       "      <th>5</th>\n",
       "      <td>EU</td>\n",
       "      <td>7840</td>\n",
       "    </tr>\n",
       "    <tr>\n",
       "      <th>6</th>\n",
       "      <td>AF</td>\n",
       "      <td>3362</td>\n",
       "    </tr>\n",
       "  </tbody>\n",
       "</table>\n",
       "</div>"
      ],
      "text/plain": [
       "  continent  count\n",
       "0        NA  27719\n",
       "1        SA   7709\n",
       "2        AS   5350\n",
       "3        AN     28\n",
       "4        OC   3067\n",
       "5        EU   7840\n",
       "6        AF   3362"
      ]
     },
     "execution_count": 32,
     "metadata": {},
     "output_type": "execute_result"
    }
   ],
   "source": [
    "Airport_df.groupBy('continent').count().toPandas()"
   ]
  },
  {
   "cell_type": "code",
   "execution_count": 33,
   "metadata": {
    "editable": true
   },
   "outputs": [
    {
     "data": {
      "text/html": [
       "<div>\n",
       "<style scoped>\n",
       "    .dataframe tbody tr th:only-of-type {\n",
       "        vertical-align: middle;\n",
       "    }\n",
       "\n",
       "    .dataframe tbody tr th {\n",
       "        vertical-align: top;\n",
       "    }\n",
       "\n",
       "    .dataframe thead th {\n",
       "        text-align: right;\n",
       "    }\n",
       "</style>\n",
       "<table border=\"1\" class=\"dataframe\">\n",
       "  <thead>\n",
       "    <tr style=\"text-align: right;\">\n",
       "      <th></th>\n",
       "      <th>gps_code</th>\n",
       "      <th>ident</th>\n",
       "      <th>local_code</th>\n",
       "    </tr>\n",
       "  </thead>\n",
       "  <tbody>\n",
       "    <tr>\n",
       "      <th>0</th>\n",
       "      <td>00A</td>\n",
       "      <td>00A</td>\n",
       "      <td>00A</td>\n",
       "    </tr>\n",
       "    <tr>\n",
       "      <th>1</th>\n",
       "      <td>00AA</td>\n",
       "      <td>00AA</td>\n",
       "      <td>00AA</td>\n",
       "    </tr>\n",
       "    <tr>\n",
       "      <th>2</th>\n",
       "      <td>00AK</td>\n",
       "      <td>00AK</td>\n",
       "      <td>00AK</td>\n",
       "    </tr>\n",
       "    <tr>\n",
       "      <th>3</th>\n",
       "      <td>00AL</td>\n",
       "      <td>00AL</td>\n",
       "      <td>00AL</td>\n",
       "    </tr>\n",
       "    <tr>\n",
       "      <th>4</th>\n",
       "      <td>None</td>\n",
       "      <td>00AR</td>\n",
       "      <td>None</td>\n",
       "    </tr>\n",
       "    <tr>\n",
       "      <th>5</th>\n",
       "      <td>00AS</td>\n",
       "      <td>00AS</td>\n",
       "      <td>00AS</td>\n",
       "    </tr>\n",
       "    <tr>\n",
       "      <th>6</th>\n",
       "      <td>00AZ</td>\n",
       "      <td>00AZ</td>\n",
       "      <td>00AZ</td>\n",
       "    </tr>\n",
       "    <tr>\n",
       "      <th>7</th>\n",
       "      <td>00CA</td>\n",
       "      <td>00CA</td>\n",
       "      <td>00CA</td>\n",
       "    </tr>\n",
       "    <tr>\n",
       "      <th>8</th>\n",
       "      <td>00CL</td>\n",
       "      <td>00CL</td>\n",
       "      <td>00CL</td>\n",
       "    </tr>\n",
       "    <tr>\n",
       "      <th>9</th>\n",
       "      <td>00CN</td>\n",
       "      <td>00CN</td>\n",
       "      <td>00CN</td>\n",
       "    </tr>\n",
       "  </tbody>\n",
       "</table>\n",
       "</div>"
      ],
      "text/plain": [
       "  gps_code ident local_code\n",
       "0      00A   00A        00A\n",
       "1     00AA  00AA       00AA\n",
       "2     00AK  00AK       00AK\n",
       "3     00AL  00AL       00AL\n",
       "4     None  00AR       None\n",
       "5     00AS  00AS       00AS\n",
       "6     00AZ  00AZ       00AZ\n",
       "7     00CA  00CA       00CA\n",
       "8     00CL  00CL       00CL\n",
       "9     00CN  00CN       00CN"
      ]
     },
     "execution_count": 33,
     "metadata": {},
     "output_type": "execute_result"
    }
   ],
   "source": [
    "# Check if gps_code and ident and local_Code are the same \n",
    "Airport_df.select('gps_code' , 'ident','local_code').limit(10).toPandas()"
   ]
  },
  {
   "cell_type": "code",
   "execution_count": 34,
   "metadata": {
    "editable": true
   },
   "outputs": [],
   "source": [
    "# Check Duplicates\n",
    "if Airport_df.count() > Airport_df.dropDuplicates(['ident']).count():\n",
    "    raise ValueError('Data has duplicates')"
   ]
  },
  {
   "cell_type": "markdown",
   "metadata": {
    "editable": true
   },
   "source": [
    "#### Check iata_code"
   ]
  },
  {
   "cell_type": "code",
   "execution_count": 35,
   "metadata": {
    "editable": true
   },
   "outputs": [
    {
     "data": {
      "text/plain": [
       "45886"
      ]
     },
     "execution_count": 35,
     "metadata": {},
     "output_type": "execute_result"
    }
   ],
   "source": [
    "Airport_df.where(col('iata_code').isNull()).count()"
   ]
  },
  {
   "cell_type": "code",
   "execution_count": 36,
   "metadata": {
    "editable": true
   },
   "outputs": [
    {
     "data": {
      "text/plain": [
       "55075"
      ]
     },
     "execution_count": 36,
     "metadata": {},
     "output_type": "execute_result"
    }
   ],
   "source": [
    "Airport_df.count()"
   ]
  },
  {
   "cell_type": "markdown",
   "metadata": {
    "editable": true
   },
   "source": [
    "> So we will drop gps_code , local_code  ,iata_code"
   ]
  },
  {
   "cell_type": "code",
   "execution_count": 37,
   "metadata": {
    "editable": true
   },
   "outputs": [],
   "source": [
    "columns_to_drop = ['gps_code','local_code' , 'iata_code']\n",
    "Airport_df = Airport_df.drop(*columns_to_drop)"
   ]
  },
  {
   "cell_type": "code",
   "execution_count": 38,
   "metadata": {
    "editable": true
   },
   "outputs": [
    {
     "data": {
      "text/html": [
       "<div>\n",
       "<style scoped>\n",
       "    .dataframe tbody tr th:only-of-type {\n",
       "        vertical-align: middle;\n",
       "    }\n",
       "\n",
       "    .dataframe tbody tr th {\n",
       "        vertical-align: top;\n",
       "    }\n",
       "\n",
       "    .dataframe thead th {\n",
       "        text-align: right;\n",
       "    }\n",
       "</style>\n",
       "<table border=\"1\" class=\"dataframe\">\n",
       "  <thead>\n",
       "    <tr style=\"text-align: right;\">\n",
       "      <th></th>\n",
       "      <th>type</th>\n",
       "      <th>count</th>\n",
       "    </tr>\n",
       "  </thead>\n",
       "  <tbody>\n",
       "    <tr>\n",
       "      <th>0</th>\n",
       "      <td>large_airport</td>\n",
       "      <td>627</td>\n",
       "    </tr>\n",
       "    <tr>\n",
       "      <th>1</th>\n",
       "      <td>balloonport</td>\n",
       "      <td>24</td>\n",
       "    </tr>\n",
       "    <tr>\n",
       "      <th>2</th>\n",
       "      <td>seaplane_base</td>\n",
       "      <td>1016</td>\n",
       "    </tr>\n",
       "    <tr>\n",
       "      <th>3</th>\n",
       "      <td>heliport</td>\n",
       "      <td>11287</td>\n",
       "    </tr>\n",
       "    <tr>\n",
       "      <th>4</th>\n",
       "      <td>closed</td>\n",
       "      <td>3606</td>\n",
       "    </tr>\n",
       "    <tr>\n",
       "      <th>5</th>\n",
       "      <td>medium_airport</td>\n",
       "      <td>4550</td>\n",
       "    </tr>\n",
       "    <tr>\n",
       "      <th>6</th>\n",
       "      <td>small_airport</td>\n",
       "      <td>33965</td>\n",
       "    </tr>\n",
       "  </tbody>\n",
       "</table>\n",
       "</div>"
      ],
      "text/plain": [
       "             type  count\n",
       "0   large_airport    627\n",
       "1     balloonport     24\n",
       "2   seaplane_base   1016\n",
       "3        heliport  11287\n",
       "4          closed   3606\n",
       "5  medium_airport   4550\n",
       "6   small_airport  33965"
      ]
     },
     "execution_count": 38,
     "metadata": {},
     "output_type": "execute_result"
    }
   ],
   "source": [
    "Airport_df.groupBy('type').count().toPandas()"
   ]
  },
  {
   "cell_type": "markdown",
   "metadata": {
    "editable": true
   },
   "source": [
    "##### Compare Airport code from the two datasets "
   ]
  },
  {
   "cell_type": "code",
   "execution_count": 39,
   "metadata": {
    "editable": true
   },
   "outputs": [
    {
     "data": {
      "text/html": [
       "<div>\n",
       "<style scoped>\n",
       "    .dataframe tbody tr th:only-of-type {\n",
       "        vertical-align: middle;\n",
       "    }\n",
       "\n",
       "    .dataframe tbody tr th {\n",
       "        vertical-align: top;\n",
       "    }\n",
       "\n",
       "    .dataframe thead th {\n",
       "        text-align: right;\n",
       "    }\n",
       "</style>\n",
       "<table border=\"1\" class=\"dataframe\">\n",
       "  <thead>\n",
       "    <tr style=\"text-align: right;\">\n",
       "      <th></th>\n",
       "      <th>ident</th>\n",
       "    </tr>\n",
       "  </thead>\n",
       "  <tbody>\n",
       "    <tr>\n",
       "      <th>0</th>\n",
       "      <td>00A</td>\n",
       "    </tr>\n",
       "    <tr>\n",
       "      <th>1</th>\n",
       "      <td>00AA</td>\n",
       "    </tr>\n",
       "    <tr>\n",
       "      <th>2</th>\n",
       "      <td>00AK</td>\n",
       "    </tr>\n",
       "    <tr>\n",
       "      <th>3</th>\n",
       "      <td>00AL</td>\n",
       "    </tr>\n",
       "    <tr>\n",
       "      <th>4</th>\n",
       "      <td>00AR</td>\n",
       "    </tr>\n",
       "  </tbody>\n",
       "</table>\n",
       "</div>"
      ],
      "text/plain": [
       "  ident\n",
       "0   00A\n",
       "1  00AA\n",
       "2  00AK\n",
       "3  00AL\n",
       "4  00AR"
      ]
     },
     "execution_count": 39,
     "metadata": {},
     "output_type": "execute_result"
    }
   ],
   "source": [
    "Airport_df.select(\"ident\").limit(5).toPandas()"
   ]
  },
  {
   "cell_type": "code",
   "execution_count": 40,
   "metadata": {
    "editable": true
   },
   "outputs": [
    {
     "data": {
      "text/html": [
       "<div>\n",
       "<style scoped>\n",
       "    .dataframe tbody tr th:only-of-type {\n",
       "        vertical-align: middle;\n",
       "    }\n",
       "\n",
       "    .dataframe tbody tr th {\n",
       "        vertical-align: top;\n",
       "    }\n",
       "\n",
       "    .dataframe thead th {\n",
       "        text-align: right;\n",
       "    }\n",
       "</style>\n",
       "<table border=\"1\" class=\"dataframe\">\n",
       "  <thead>\n",
       "    <tr style=\"text-align: right;\">\n",
       "      <th></th>\n",
       "      <th>ident</th>\n",
       "      <th>type</th>\n",
       "      <th>name</th>\n",
       "      <th>elevation_ft</th>\n",
       "      <th>continent</th>\n",
       "      <th>iso_country</th>\n",
       "      <th>iso_region</th>\n",
       "      <th>municipality</th>\n",
       "      <th>coordinates</th>\n",
       "    </tr>\n",
       "  </thead>\n",
       "  <tbody>\n",
       "  </tbody>\n",
       "</table>\n",
       "</div>"
      ],
      "text/plain": [
       "Empty DataFrame\n",
       "Columns: [ident, type, name, elevation_ft, continent, iso_country, iso_region, municipality, coordinates]\n",
       "Index: []"
      ]
     },
     "execution_count": 40,
     "metadata": {},
     "output_type": "execute_result"
    }
   ],
   "source": [
    "Airport_df[Airport_df['ident'] == 'AA'].toPandas()"
   ]
  },
  {
   "cell_type": "code",
   "execution_count": 41,
   "metadata": {
    "editable": true
   },
   "outputs": [
    {
     "data": {
      "text/html": [
       "<div>\n",
       "<style scoped>\n",
       "    .dataframe tbody tr th:only-of-type {\n",
       "        vertical-align: middle;\n",
       "    }\n",
       "\n",
       "    .dataframe tbody tr th {\n",
       "        vertical-align: top;\n",
       "    }\n",
       "\n",
       "    .dataframe thead th {\n",
       "        text-align: right;\n",
       "    }\n",
       "</style>\n",
       "<table border=\"1\" class=\"dataframe\">\n",
       "  <thead>\n",
       "    <tr style=\"text-align: right;\">\n",
       "      <th></th>\n",
       "      <th>ident</th>\n",
       "      <th>type</th>\n",
       "      <th>name</th>\n",
       "      <th>elevation_ft</th>\n",
       "      <th>continent</th>\n",
       "      <th>iso_country</th>\n",
       "      <th>iso_region</th>\n",
       "      <th>municipality</th>\n",
       "      <th>coordinates</th>\n",
       "    </tr>\n",
       "  </thead>\n",
       "  <tbody>\n",
       "    <tr>\n",
       "      <th>0</th>\n",
       "      <td>00AA</td>\n",
       "      <td>small_airport</td>\n",
       "      <td>Aero B Ranch Airport</td>\n",
       "      <td>3435</td>\n",
       "      <td>NA</td>\n",
       "      <td>US</td>\n",
       "      <td>US-KS</td>\n",
       "      <td>Leoti</td>\n",
       "      <td>-101.473911, 38.704022</td>\n",
       "    </tr>\n",
       "  </tbody>\n",
       "</table>\n",
       "</div>"
      ],
      "text/plain": [
       "  ident           type                  name elevation_ft continent  \\\n",
       "0  00AA  small_airport  Aero B Ranch Airport         3435        NA   \n",
       "\n",
       "  iso_country iso_region municipality             coordinates  \n",
       "0          US      US-KS        Leoti  -101.473911, 38.704022  "
      ]
     },
     "execution_count": 41,
     "metadata": {},
     "output_type": "execute_result"
    }
   ],
   "source": [
    "Airport_df[Airport_df['ident'] == '00AA'].toPandas()"
   ]
  },
  {
   "cell_type": "markdown",
   "metadata": {
    "editable": true
   },
   "source": [
    "#### So we Need to transform All the Airline codes in Img dataset from for example 'AA' to '00AA'"
   ]
  },
  {
   "cell_type": "code",
   "execution_count": 42,
   "metadata": {
    "editable": true
   },
   "outputs": [],
   "source": [
    "AirlineFormat_udf = udf(lambda code: \"00\"+code if len(code) == 2 else code, StringType())"
   ]
  },
  {
   "cell_type": "code",
   "execution_count": 43,
   "metadata": {
    "editable": true
   },
   "outputs": [],
   "source": [
    "Img_Clean_df = Img_Clean_df.withColumn('Airline' , AirlineFormat_udf(Img_Clean_df['Airline']))"
   ]
  },
  {
   "cell_type": "code",
   "execution_count": 44,
   "metadata": {
    "editable": true
   },
   "outputs": [
    {
     "data": {
      "text/html": [
       "<div>\n",
       "<style scoped>\n",
       "    .dataframe tbody tr th:only-of-type {\n",
       "        vertical-align: middle;\n",
       "    }\n",
       "\n",
       "    .dataframe tbody tr th {\n",
       "        vertical-align: top;\n",
       "    }\n",
       "\n",
       "    .dataframe thead th {\n",
       "        text-align: right;\n",
       "    }\n",
       "</style>\n",
       "<table border=\"1\" class=\"dataframe\">\n",
       "  <thead>\n",
       "    <tr style=\"text-align: right;\">\n",
       "      <th></th>\n",
       "      <th>Img_ID</th>\n",
       "      <th>Img_Year</th>\n",
       "      <th>Img_Month</th>\n",
       "      <th>Img_BCountry</th>\n",
       "      <th>Img_ResidenceCountry</th>\n",
       "      <th>Img_City</th>\n",
       "      <th>Transportation_Mode</th>\n",
       "      <th>State_Arrival</th>\n",
       "      <th>Age</th>\n",
       "      <th>Visa_Codes</th>\n",
       "      <th>Img_BYear</th>\n",
       "      <th>Img_gender</th>\n",
       "      <th>Airline</th>\n",
       "      <th>Flight_Number</th>\n",
       "      <th>Visa_Type</th>\n",
       "      <th>Visa_Post</th>\n",
       "    </tr>\n",
       "  </thead>\n",
       "  <tbody>\n",
       "    <tr>\n",
       "      <th>0</th>\n",
       "      <td>15.0</td>\n",
       "      <td>2016.0</td>\n",
       "      <td>4.0</td>\n",
       "      <td>101.0</td>\n",
       "      <td>101.0</td>\n",
       "      <td>WAS</td>\n",
       "      <td>1.0</td>\n",
       "      <td>MI</td>\n",
       "      <td>55.0</td>\n",
       "      <td>2.0</td>\n",
       "      <td>1961.0</td>\n",
       "      <td>M</td>\n",
       "      <td>00OS</td>\n",
       "      <td>93</td>\n",
       "      <td>B2</td>\n",
       "      <td>None</td>\n",
       "    </tr>\n",
       "    <tr>\n",
       "      <th>1</th>\n",
       "      <td>16.0</td>\n",
       "      <td>2016.0</td>\n",
       "      <td>4.0</td>\n",
       "      <td>101.0</td>\n",
       "      <td>101.0</td>\n",
       "      <td>NYC</td>\n",
       "      <td>1.0</td>\n",
       "      <td>MA</td>\n",
       "      <td>28.0</td>\n",
       "      <td>2.0</td>\n",
       "      <td>1988.0</td>\n",
       "      <td>None</td>\n",
       "      <td>00AA</td>\n",
       "      <td>00199</td>\n",
       "      <td>B2</td>\n",
       "      <td>None</td>\n",
       "    </tr>\n",
       "    <tr>\n",
       "      <th>2</th>\n",
       "      <td>17.0</td>\n",
       "      <td>2016.0</td>\n",
       "      <td>4.0</td>\n",
       "      <td>101.0</td>\n",
       "      <td>101.0</td>\n",
       "      <td>NYC</td>\n",
       "      <td>1.0</td>\n",
       "      <td>MA</td>\n",
       "      <td>4.0</td>\n",
       "      <td>2.0</td>\n",
       "      <td>2012.0</td>\n",
       "      <td>None</td>\n",
       "      <td>00AA</td>\n",
       "      <td>00199</td>\n",
       "      <td>B2</td>\n",
       "      <td>None</td>\n",
       "    </tr>\n",
       "    <tr>\n",
       "      <th>3</th>\n",
       "      <td>18.0</td>\n",
       "      <td>2016.0</td>\n",
       "      <td>4.0</td>\n",
       "      <td>101.0</td>\n",
       "      <td>101.0</td>\n",
       "      <td>NYC</td>\n",
       "      <td>1.0</td>\n",
       "      <td>MI</td>\n",
       "      <td>57.0</td>\n",
       "      <td>1.0</td>\n",
       "      <td>1959.0</td>\n",
       "      <td>None</td>\n",
       "      <td>00AZ</td>\n",
       "      <td>00602</td>\n",
       "      <td>B1</td>\n",
       "      <td>None</td>\n",
       "    </tr>\n",
       "    <tr>\n",
       "      <th>4</th>\n",
       "      <td>19.0</td>\n",
       "      <td>2016.0</td>\n",
       "      <td>4.0</td>\n",
       "      <td>101.0</td>\n",
       "      <td>101.0</td>\n",
       "      <td>NYC</td>\n",
       "      <td>1.0</td>\n",
       "      <td>NJ</td>\n",
       "      <td>63.0</td>\n",
       "      <td>2.0</td>\n",
       "      <td>1953.0</td>\n",
       "      <td>None</td>\n",
       "      <td>00AZ</td>\n",
       "      <td>00602</td>\n",
       "      <td>B2</td>\n",
       "      <td>None</td>\n",
       "    </tr>\n",
       "  </tbody>\n",
       "</table>\n",
       "</div>"
      ],
      "text/plain": [
       "   Img_ID  Img_Year  Img_Month  Img_BCountry  Img_ResidenceCountry Img_City  \\\n",
       "0    15.0    2016.0        4.0         101.0                 101.0      WAS   \n",
       "1    16.0    2016.0        4.0         101.0                 101.0      NYC   \n",
       "2    17.0    2016.0        4.0         101.0                 101.0      NYC   \n",
       "3    18.0    2016.0        4.0         101.0                 101.0      NYC   \n",
       "4    19.0    2016.0        4.0         101.0                 101.0      NYC   \n",
       "\n",
       "   Transportation_Mode State_Arrival   Age  Visa_Codes  Img_BYear Img_gender  \\\n",
       "0                  1.0            MI  55.0         2.0     1961.0          M   \n",
       "1                  1.0            MA  28.0         2.0     1988.0       None   \n",
       "2                  1.0            MA   4.0         2.0     2012.0       None   \n",
       "3                  1.0            MI  57.0         1.0     1959.0       None   \n",
       "4                  1.0            NJ  63.0         2.0     1953.0       None   \n",
       "\n",
       "  Airline Flight_Number Visa_Type Visa_Post  \n",
       "0    00OS            93        B2      None  \n",
       "1    00AA         00199        B2      None  \n",
       "2    00AA         00199        B2      None  \n",
       "3    00AZ         00602        B1      None  \n",
       "4    00AZ         00602        B2      None  "
      ]
     },
     "execution_count": 44,
     "metadata": {},
     "output_type": "execute_result"
    }
   ],
   "source": [
    "Img_Clean_df.limit(5).toPandas()"
   ]
  },
  {
   "cell_type": "code",
   "execution_count": 45,
   "metadata": {
    "editable": true
   },
   "outputs": [
    {
     "data": {
      "text/html": [
       "<div>\n",
       "<style scoped>\n",
       "    .dataframe tbody tr th:only-of-type {\n",
       "        vertical-align: middle;\n",
       "    }\n",
       "\n",
       "    .dataframe tbody tr th {\n",
       "        vertical-align: top;\n",
       "    }\n",
       "\n",
       "    .dataframe thead th {\n",
       "        text-align: right;\n",
       "    }\n",
       "</style>\n",
       "<table border=\"1\" class=\"dataframe\">\n",
       "  <thead>\n",
       "    <tr style=\"text-align: right;\">\n",
       "      <th></th>\n",
       "      <th>ident</th>\n",
       "      <th>type</th>\n",
       "      <th>name</th>\n",
       "      <th>elevation_ft</th>\n",
       "      <th>continent</th>\n",
       "      <th>iso_country</th>\n",
       "      <th>iso_region</th>\n",
       "      <th>municipality</th>\n",
       "      <th>coordinates</th>\n",
       "    </tr>\n",
       "  </thead>\n",
       "  <tbody>\n",
       "    <tr>\n",
       "      <th>0</th>\n",
       "      <td>00A</td>\n",
       "      <td>heliport</td>\n",
       "      <td>Total Rf Heliport</td>\n",
       "      <td>11</td>\n",
       "      <td>NA</td>\n",
       "      <td>US</td>\n",
       "      <td>US-PA</td>\n",
       "      <td>Bensalem</td>\n",
       "      <td>-74.93360137939453, 40.07080078125</td>\n",
       "    </tr>\n",
       "    <tr>\n",
       "      <th>1</th>\n",
       "      <td>00AA</td>\n",
       "      <td>small_airport</td>\n",
       "      <td>Aero B Ranch Airport</td>\n",
       "      <td>3435</td>\n",
       "      <td>NA</td>\n",
       "      <td>US</td>\n",
       "      <td>US-KS</td>\n",
       "      <td>Leoti</td>\n",
       "      <td>-101.473911, 38.704022</td>\n",
       "    </tr>\n",
       "    <tr>\n",
       "      <th>2</th>\n",
       "      <td>00AK</td>\n",
       "      <td>small_airport</td>\n",
       "      <td>Lowell Field</td>\n",
       "      <td>450</td>\n",
       "      <td>NA</td>\n",
       "      <td>US</td>\n",
       "      <td>US-AK</td>\n",
       "      <td>Anchor Point</td>\n",
       "      <td>-151.695999146, 59.94919968</td>\n",
       "    </tr>\n",
       "  </tbody>\n",
       "</table>\n",
       "</div>"
      ],
      "text/plain": [
       "  ident           type                  name elevation_ft continent  \\\n",
       "0   00A       heliport     Total Rf Heliport           11        NA   \n",
       "1  00AA  small_airport  Aero B Ranch Airport         3435        NA   \n",
       "2  00AK  small_airport          Lowell Field          450        NA   \n",
       "\n",
       "  iso_country iso_region  municipality                         coordinates  \n",
       "0          US      US-PA      Bensalem  -74.93360137939453, 40.07080078125  \n",
       "1          US      US-KS         Leoti              -101.473911, 38.704022  \n",
       "2          US      US-AK  Anchor Point         -151.695999146, 59.94919968  "
      ]
     },
     "execution_count": 45,
     "metadata": {},
     "output_type": "execute_result"
    }
   ],
   "source": [
    "Airport_df.limit(3).toPandas()"
   ]
  },
  {
   "cell_type": "markdown",
   "metadata": {
    "editable": true
   },
   "source": [
    "### Here we will define function for each Dataset to Clean the data\n",
    "This is just a summary to the cells above so we don't need to run it one by one"
   ]
  },
  {
   "cell_type": "code",
   "execution_count": 77,
   "metadata": {
    "editable": true
   },
   "outputs": [],
   "source": [
    "def CleanImmiData(path):\n",
    "    # Load data \n",
    "    immigration_df = spark.read.format('com.github.saurfang.sas.spark').load(path)\n",
    "    # Select Needed Columns and renaming them while loading using Exp\n",
    "    Img_Clean_df = immigration_df.selectExpr('cicid as Img_ID'  , 'i94yr as Img_Year' ,'i94mon as Img_Month', 'i94cit as Img_BCountry',\n",
    "                     'i94res as Img_ResidenceCountry','i94port as Img_City', 'i94mode as Transportation_Mode',\n",
    "                      'i94addr as State_Arrival', 'i94bir as Age' ,'i94visa as Visa_Codes', \n",
    "                     'occup as OccupationState','biryear as Img_BYear',  'gender as Img_gender',\n",
    "                      'airline as Airline' , 'fltno as Flight_Number',  'visatype as Visa_Type' , 'visapost as Visa_Post' , 'insnum as INS_Number')\n",
    "    # Drop Useless Columns\n",
    "    columns_to_drop = ['OccupationState','INS_Number']\n",
    "    Img_Clean_df = Img_Clean_df.drop(*columns_to_drop)\n",
    "    # Remove NULL values from Airline Column\n",
    "    Img_Clean_df = Img_Clean_df.na.drop(subset=[\"Airline\"])\n",
    "    # Reformat the Airline Column from for Example : AA -> 00AA\n",
    "    # Define udf\n",
    "    AirlineFormat_udf = udf(lambda code: \"00\"+code if len(code) == 2 else code, StringType())\n",
    "    # Run udf of Airline Column\n",
    "    Img_Clean_df = Img_Clean_df.withColumn('Airline' , AirlineFormat_udf(Img_Clean_df['Airline']))\n",
    "    \n",
    "    # Return cleaned dataframe\n",
    "    return Img_Clean_df"
   ]
  },
  {
   "cell_type": "code",
   "execution_count": 78,
   "metadata": {
    "editable": true
   },
   "outputs": [],
   "source": [
    "def CleanCitiesData(path):\n",
    "    # Read the CSV\n",
    "    cities_df = spark.read.option(\"delimiter\"  , \";\"  ).option(\"Header\" , True).csv(path )\n",
    "    cities_df.limit(5).toPandas()\n",
    "\n",
    "    # Rename Columns with easier names\n",
    "    cities_df = cities_df.withColumnRenamed(\"Median Age\",\"Median_Age\") \\\n",
    "        .withColumnRenamed(\"Male Population\",\"Male_Population\") \\\n",
    "        .withColumnRenamed(\"Female Population\",\"Female_Population\") \\\n",
    "        .withColumnRenamed(\"Total Population\",\"Total_Population\") \\\n",
    "        .withColumnRenamed(\"Number of Veterans\",\"Num_Veterans\") \\\n",
    "        .withColumnRenamed(\"Foreign-born\",\"Foreign_born\") \\\n",
    "        .withColumnRenamed(\"Average Household Size\",\"Average_Household_Size\") \\\n",
    "        .withColumnRenamed(\"State Code\",\"State_Code\")\n",
    "\n",
    "    # Create view to run sql query on the data\n",
    "    cities_df.createOrReplaceTempView(\"city_view\")\n",
    "\n",
    "    # Create new table with states summarization not for each city\n",
    "    states_df = spark.sql(\"\"\"\n",
    "        SELECT  State_Code ,\n",
    "                MAX(State) AS State_Name ,\n",
    "                COUNT(*) AS Num_Cities ,\n",
    "                AVG(Median_Age) AS AVG_Median_Age ,\n",
    "                AVG(Male_Population) AS AVG_Male_Population,\n",
    "                AVG(Female_Population) AS AVG_Female_Population ,\n",
    "                INT(SUM(Total_Population)) AS Total_Population , \n",
    "                INT(SUM(Num_Veterans)) AS Num_Veterans,\n",
    "                INT(SUM(Foreign_born)) AS Foreign_born,\n",
    "                AVG(Average_Household_Size) AS Average_Household_Size\n",
    "        FROM  city_view\n",
    "        GROUP BY  State_Code\n",
    "        LIMIT 5\n",
    "        \"\"\")\n",
    "    # Return cleaned dataframe\n",
    "    return states_df"
   ]
  },
  {
   "cell_type": "code",
   "execution_count": 80,
   "metadata": {
    "editable": true
   },
   "outputs": [],
   "source": [
    "def CleanAirlineData(path):\n",
    "    Airport_df = spark.read.option(\"Header\" , True).csv('airport-codes_csv.csv' )\n",
    "    \n",
    "    # drop useless columns\n",
    "    columns_to_drop = ['gps_code','local_code' , 'iata_code']\n",
    "    Airport_df = Airport_df.drop(*columns_to_drop)\n",
    "    \n",
    "    # Return cleaned dataframe\n",
    "    return Airport_df"
   ]
  },
  {
   "cell_type": "markdown",
   "metadata": {
    "editable": true
   },
   "source": [
    "## Saving Cleaned Datasets "
   ]
  },
  {
   "cell_type": "code",
   "execution_count": 46,
   "metadata": {
    "editable": true
   },
   "outputs": [],
   "source": [
    "Img_Clean_df.write.parquet(\"/Output_Clean/Clean_I94_Immigration_Data.parquet\")"
   ]
  },
  {
   "cell_type": "code",
   "execution_count": 47,
   "metadata": {
    "editable": true
   },
   "outputs": [],
   "source": [
    "Airport_df.write.parquet(\"/Output_Clean/Clean_AirportCode.parquet\") "
   ]
  },
  {
   "cell_type": "code",
   "execution_count": 48,
   "metadata": {
    "editable": true
   },
   "outputs": [],
   "source": [
    "cities_df.write.parquet(\"/Output_Clean/Clean_US_CityDemographic.parquet\") "
   ]
  },
  {
   "cell_type": "markdown",
   "metadata": {
    "editable": true
   },
   "source": [
    "### Step 3: Define the Data Model\n",
    "#### 3.1 Conceptual Data Model\n",
    "The Conceptual Data Model is as Follows:  \n",
    "![](Star_Proj.png)\n",
    "We chose the star schema to be able to do analysis easier and by having the Airline Data as dimension table we will be able to do our analysis based on the airline and the Airline type,name etc.\n",
    "Just as the Airline dim table we have State dim table which will provide our analysis with deeper understanding about the states info and cities in each state.\n",
    "and also the visa and Immigrants Dim table give us more personal info about the Immigrants\n",
    "\n",
    "\n",
    "#### 3.2 Mapping Out Data Pipelines\n",
    "Steps Needed to Create our Tables is : \n",
    "1. Load Cleaned Img Data frame to create :\n",
    "- Fact_l94_Immigration_Table\n",
    "- Dim_Immigrant_Table\n",
    "- Dim_Visa_Table\n",
    "2. Load Modified Airport_df to create :\n",
    "- Dim_AirLine_Table\n",
    "3. Load Modified cities_df to create : \n",
    "- Dim_States_Table"
   ]
  },
  {
   "cell_type": "markdown",
   "metadata": {
    "editable": true
   },
   "source": [
    "### Step 4: Run Pipelines to Model the Data \n",
    "#### 4.1 Create the data model\n",
    "Build the data pipelines to create the data model."
   ]
  },
  {
   "cell_type": "markdown",
   "metadata": {
    "editable": true
   },
   "source": [
    "#### 1) Read Saved files from stages 1,2"
   ]
  },
  {
   "cell_type": "code",
   "execution_count": 49,
   "metadata": {
    "editable": true
   },
   "outputs": [],
   "source": [
    "# Read parquet Files\n",
    "Img_Clean_df=spark.read.parquet(\"/Output_Clean/Clean_I94_Immigration_Data.parquet\")\n",
    "Airport_df=spark.read.parquet(\"/Output_Clean/Clean_AirportCode.parquet\")\n",
    "cities_df=spark.read.parquet(\"/Output_Clean/Clean_US_CityDemographic.parquet\")"
   ]
  },
  {
   "cell_type": "markdown",
   "metadata": {
    "editable": true
   },
   "source": [
    "#### 2) Create Fact Table "
   ]
  },
  {
   "cell_type": "code",
   "execution_count": 50,
   "metadata": {
    "editable": true
   },
   "outputs": [],
   "source": [
    "Fact_l94_Immigration_Table =Img_Clean_df.select('Img_ID','Img_Year','Img_Month','Img_City','Transportation_Mode',\n",
    "                                                 'State_Arrival','Airline','Flight_Number','Visa_Type')"
   ]
  },
  {
   "cell_type": "code",
   "execution_count": 51,
   "metadata": {
    "editable": true
   },
   "outputs": [
    {
     "data": {
      "text/html": [
       "<div>\n",
       "<style scoped>\n",
       "    .dataframe tbody tr th:only-of-type {\n",
       "        vertical-align: middle;\n",
       "    }\n",
       "\n",
       "    .dataframe tbody tr th {\n",
       "        vertical-align: top;\n",
       "    }\n",
       "\n",
       "    .dataframe thead th {\n",
       "        text-align: right;\n",
       "    }\n",
       "</style>\n",
       "<table border=\"1\" class=\"dataframe\">\n",
       "  <thead>\n",
       "    <tr style=\"text-align: right;\">\n",
       "      <th></th>\n",
       "      <th>Img_ID</th>\n",
       "      <th>Img_Year</th>\n",
       "      <th>Img_Month</th>\n",
       "      <th>Img_City</th>\n",
       "      <th>Transportation_Mode</th>\n",
       "      <th>State_Arrival</th>\n",
       "      <th>Airline</th>\n",
       "      <th>Flight_Number</th>\n",
       "      <th>Visa_Type</th>\n",
       "    </tr>\n",
       "  </thead>\n",
       "  <tbody>\n",
       "    <tr>\n",
       "      <th>0</th>\n",
       "      <td>878176.0</td>\n",
       "      <td>2016.0</td>\n",
       "      <td>4.0</td>\n",
       "      <td>LOS</td>\n",
       "      <td>1.0</td>\n",
       "      <td>CA</td>\n",
       "      <td>00CI</td>\n",
       "      <td>00006</td>\n",
       "      <td>B2</td>\n",
       "    </tr>\n",
       "    <tr>\n",
       "      <th>1</th>\n",
       "      <td>878177.0</td>\n",
       "      <td>2016.0</td>\n",
       "      <td>4.0</td>\n",
       "      <td>LOS</td>\n",
       "      <td>1.0</td>\n",
       "      <td>CA</td>\n",
       "      <td>00PR</td>\n",
       "      <td>00102</td>\n",
       "      <td>B2</td>\n",
       "    </tr>\n",
       "    <tr>\n",
       "      <th>2</th>\n",
       "      <td>878178.0</td>\n",
       "      <td>2016.0</td>\n",
       "      <td>4.0</td>\n",
       "      <td>LOS</td>\n",
       "      <td>1.0</td>\n",
       "      <td>CA</td>\n",
       "      <td>00PR</td>\n",
       "      <td>00102</td>\n",
       "      <td>B2</td>\n",
       "    </tr>\n",
       "    <tr>\n",
       "      <th>3</th>\n",
       "      <td>878179.0</td>\n",
       "      <td>2016.0</td>\n",
       "      <td>4.0</td>\n",
       "      <td>LOS</td>\n",
       "      <td>1.0</td>\n",
       "      <td>CA</td>\n",
       "      <td>00KE</td>\n",
       "      <td>00011</td>\n",
       "      <td>B2</td>\n",
       "    </tr>\n",
       "    <tr>\n",
       "      <th>4</th>\n",
       "      <td>878180.0</td>\n",
       "      <td>2016.0</td>\n",
       "      <td>4.0</td>\n",
       "      <td>LOS</td>\n",
       "      <td>1.0</td>\n",
       "      <td>CA</td>\n",
       "      <td>00KE</td>\n",
       "      <td>00011</td>\n",
       "      <td>B2</td>\n",
       "    </tr>\n",
       "  </tbody>\n",
       "</table>\n",
       "</div>"
      ],
      "text/plain": [
       "     Img_ID  Img_Year  Img_Month Img_City  Transportation_Mode State_Arrival  \\\n",
       "0  878176.0    2016.0        4.0      LOS                  1.0            CA   \n",
       "1  878177.0    2016.0        4.0      LOS                  1.0            CA   \n",
       "2  878178.0    2016.0        4.0      LOS                  1.0            CA   \n",
       "3  878179.0    2016.0        4.0      LOS                  1.0            CA   \n",
       "4  878180.0    2016.0        4.0      LOS                  1.0            CA   \n",
       "\n",
       "  Airline Flight_Number Visa_Type  \n",
       "0    00CI         00006        B2  \n",
       "1    00PR         00102        B2  \n",
       "2    00PR         00102        B2  \n",
       "3    00KE         00011        B2  \n",
       "4    00KE         00011        B2  "
      ]
     },
     "execution_count": 51,
     "metadata": {},
     "output_type": "execute_result"
    }
   ],
   "source": [
    "Fact_l94_Immigration_Table.limit(5).toPandas()"
   ]
  },
  {
   "cell_type": "markdown",
   "metadata": {
    "editable": true
   },
   "source": [
    "#### 3) Create Dimension Tables"
   ]
  },
  {
   "cell_type": "markdown",
   "metadata": {
    "editable": true
   },
   "source": [
    "##### 3.1) Dim_Immigrant"
   ]
  },
  {
   "cell_type": "code",
   "execution_count": 52,
   "metadata": {
    "editable": true
   },
   "outputs": [],
   "source": [
    "Dim_Immigrant_Table = Img_Clean_df.select('Img_ID','Img_BCountry','Img_ResidenceCountry','Age','Img_BYear','Img_gender')"
   ]
  },
  {
   "cell_type": "code",
   "execution_count": 53,
   "metadata": {
    "editable": true
   },
   "outputs": [
    {
     "data": {
      "text/html": [
       "<div>\n",
       "<style scoped>\n",
       "    .dataframe tbody tr th:only-of-type {\n",
       "        vertical-align: middle;\n",
       "    }\n",
       "\n",
       "    .dataframe tbody tr th {\n",
       "        vertical-align: top;\n",
       "    }\n",
       "\n",
       "    .dataframe thead th {\n",
       "        text-align: right;\n",
       "    }\n",
       "</style>\n",
       "<table border=\"1\" class=\"dataframe\">\n",
       "  <thead>\n",
       "    <tr style=\"text-align: right;\">\n",
       "      <th></th>\n",
       "      <th>Img_ID</th>\n",
       "      <th>Img_BCountry</th>\n",
       "      <th>Img_ResidenceCountry</th>\n",
       "      <th>Age</th>\n",
       "      <th>Img_BYear</th>\n",
       "      <th>Img_gender</th>\n",
       "    </tr>\n",
       "  </thead>\n",
       "  <tbody>\n",
       "    <tr>\n",
       "      <th>0</th>\n",
       "      <td>878176.0</td>\n",
       "      <td>260.0</td>\n",
       "      <td>260.0</td>\n",
       "      <td>33.0</td>\n",
       "      <td>1983.0</td>\n",
       "      <td>F</td>\n",
       "    </tr>\n",
       "    <tr>\n",
       "      <th>1</th>\n",
       "      <td>878177.0</td>\n",
       "      <td>260.0</td>\n",
       "      <td>260.0</td>\n",
       "      <td>62.0</td>\n",
       "      <td>1954.0</td>\n",
       "      <td>M</td>\n",
       "    </tr>\n",
       "    <tr>\n",
       "      <th>2</th>\n",
       "      <td>878178.0</td>\n",
       "      <td>260.0</td>\n",
       "      <td>260.0</td>\n",
       "      <td>61.0</td>\n",
       "      <td>1955.0</td>\n",
       "      <td>F</td>\n",
       "    </tr>\n",
       "    <tr>\n",
       "      <th>3</th>\n",
       "      <td>878179.0</td>\n",
       "      <td>260.0</td>\n",
       "      <td>260.0</td>\n",
       "      <td>33.0</td>\n",
       "      <td>1983.0</td>\n",
       "      <td>F</td>\n",
       "    </tr>\n",
       "    <tr>\n",
       "      <th>4</th>\n",
       "      <td>878180.0</td>\n",
       "      <td>260.0</td>\n",
       "      <td>260.0</td>\n",
       "      <td>9.0</td>\n",
       "      <td>2007.0</td>\n",
       "      <td>F</td>\n",
       "    </tr>\n",
       "  </tbody>\n",
       "</table>\n",
       "</div>"
      ],
      "text/plain": [
       "     Img_ID  Img_BCountry  Img_ResidenceCountry   Age  Img_BYear Img_gender\n",
       "0  878176.0         260.0                 260.0  33.0     1983.0          F\n",
       "1  878177.0         260.0                 260.0  62.0     1954.0          M\n",
       "2  878178.0         260.0                 260.0  61.0     1955.0          F\n",
       "3  878179.0         260.0                 260.0  33.0     1983.0          F\n",
       "4  878180.0         260.0                 260.0   9.0     2007.0          F"
      ]
     },
     "execution_count": 53,
     "metadata": {},
     "output_type": "execute_result"
    }
   ],
   "source": [
    "Dim_Immigrant_Table.limit(5).toPandas()"
   ]
  },
  {
   "cell_type": "markdown",
   "metadata": {
    "editable": true
   },
   "source": [
    "##### 3.2) Dim_Visa"
   ]
  },
  {
   "cell_type": "code",
   "execution_count": 55,
   "metadata": {
    "editable": true
   },
   "outputs": [],
   "source": [
    "Dim_Visa_Table = Img_Clean_df.select('Visa_Type' ,'Visa_Codes','Visa_Post')"
   ]
  },
  {
   "cell_type": "code",
   "execution_count": 56,
   "metadata": {
    "editable": true
   },
   "outputs": [
    {
     "data": {
      "text/html": [
       "<div>\n",
       "<style scoped>\n",
       "    .dataframe tbody tr th:only-of-type {\n",
       "        vertical-align: middle;\n",
       "    }\n",
       "\n",
       "    .dataframe tbody tr th {\n",
       "        vertical-align: top;\n",
       "    }\n",
       "\n",
       "    .dataframe thead th {\n",
       "        text-align: right;\n",
       "    }\n",
       "</style>\n",
       "<table border=\"1\" class=\"dataframe\">\n",
       "  <thead>\n",
       "    <tr style=\"text-align: right;\">\n",
       "      <th></th>\n",
       "      <th>Visa_Type</th>\n",
       "      <th>Visa_Codes</th>\n",
       "      <th>Visa_Post</th>\n",
       "    </tr>\n",
       "  </thead>\n",
       "  <tbody>\n",
       "    <tr>\n",
       "      <th>0</th>\n",
       "      <td>B2</td>\n",
       "      <td>2.0</td>\n",
       "      <td>MNL</td>\n",
       "    </tr>\n",
       "    <tr>\n",
       "      <th>1</th>\n",
       "      <td>B2</td>\n",
       "      <td>2.0</td>\n",
       "      <td>MNL</td>\n",
       "    </tr>\n",
       "    <tr>\n",
       "      <th>2</th>\n",
       "      <td>B2</td>\n",
       "      <td>2.0</td>\n",
       "      <td>MNL</td>\n",
       "    </tr>\n",
       "    <tr>\n",
       "      <th>3</th>\n",
       "      <td>B2</td>\n",
       "      <td>2.0</td>\n",
       "      <td>MNL</td>\n",
       "    </tr>\n",
       "    <tr>\n",
       "      <th>4</th>\n",
       "      <td>B2</td>\n",
       "      <td>2.0</td>\n",
       "      <td>MNL</td>\n",
       "    </tr>\n",
       "  </tbody>\n",
       "</table>\n",
       "</div>"
      ],
      "text/plain": [
       "  Visa_Type  Visa_Codes Visa_Post\n",
       "0        B2         2.0       MNL\n",
       "1        B2         2.0       MNL\n",
       "2        B2         2.0       MNL\n",
       "3        B2         2.0       MNL\n",
       "4        B2         2.0       MNL"
      ]
     },
     "execution_count": 56,
     "metadata": {},
     "output_type": "execute_result"
    }
   ],
   "source": [
    "Dim_Visa_Table.limit(5).toPandas()"
   ]
  },
  {
   "cell_type": "markdown",
   "metadata": {
    "editable": true
   },
   "source": [
    "##### 3.2) Dim_States"
   ]
  },
  {
   "cell_type": "code",
   "execution_count": 57,
   "metadata": {
    "editable": true
   },
   "outputs": [],
   "source": [
    "Dim_States_Table = cities_df.select('State_Code','State_Name','Num_Cities','AVG_Median_Age','AVG_Male_Population',\n",
    "                                     'AVG_Female_Population','Total_Population','Num_Veterans','Foreign_born',\n",
    "                                                    'Average_Household_Size')"
   ]
  },
  {
   "cell_type": "code",
   "execution_count": 58,
   "metadata": {
    "editable": true
   },
   "outputs": [
    {
     "data": {
      "text/html": [
       "<div>\n",
       "<style scoped>\n",
       "    .dataframe tbody tr th:only-of-type {\n",
       "        vertical-align: middle;\n",
       "    }\n",
       "\n",
       "    .dataframe tbody tr th {\n",
       "        vertical-align: top;\n",
       "    }\n",
       "\n",
       "    .dataframe thead th {\n",
       "        text-align: right;\n",
       "    }\n",
       "</style>\n",
       "<table border=\"1\" class=\"dataframe\">\n",
       "  <thead>\n",
       "    <tr style=\"text-align: right;\">\n",
       "      <th></th>\n",
       "      <th>State_Code</th>\n",
       "      <th>State_Name</th>\n",
       "      <th>Num_Cities</th>\n",
       "      <th>AVG_Median_Age</th>\n",
       "      <th>AVG_Male_Population</th>\n",
       "      <th>AVG_Female_Population</th>\n",
       "      <th>Total_Population</th>\n",
       "      <th>Num_Veterans</th>\n",
       "      <th>Foreign_born</th>\n",
       "      <th>Average_Household_Size</th>\n",
       "    </tr>\n",
       "  </thead>\n",
       "  <tbody>\n",
       "    <tr>\n",
       "      <th>0</th>\n",
       "      <td>AZ</td>\n",
       "      <td>Arizona</td>\n",
       "      <td>80</td>\n",
       "      <td>35.037500</td>\n",
       "      <td>139215.937500</td>\n",
       "      <td>142005.437500</td>\n",
       "      <td>22497710</td>\n",
       "      <td>1322525</td>\n",
       "      <td>3411565</td>\n",
       "      <td>2.774375</td>\n",
       "    </tr>\n",
       "    <tr>\n",
       "      <th>1</th>\n",
       "      <td>SC</td>\n",
       "      <td>South Carolina</td>\n",
       "      <td>24</td>\n",
       "      <td>33.825000</td>\n",
       "      <td>52720.458333</td>\n",
       "      <td>55070.208333</td>\n",
       "      <td>2586976</td>\n",
       "      <td>163334</td>\n",
       "      <td>134019</td>\n",
       "      <td>2.469583</td>\n",
       "    </tr>\n",
       "    <tr>\n",
       "      <th>2</th>\n",
       "      <td>LA</td>\n",
       "      <td>Louisiana</td>\n",
       "      <td>40</td>\n",
       "      <td>34.625000</td>\n",
       "      <td>78374.750000</td>\n",
       "      <td>84199.625000</td>\n",
       "      <td>6502975</td>\n",
       "      <td>348855</td>\n",
       "      <td>417095</td>\n",
       "      <td>2.465000</td>\n",
       "    </tr>\n",
       "    <tr>\n",
       "      <th>3</th>\n",
       "      <td>MN</td>\n",
       "      <td>Minnesota</td>\n",
       "      <td>54</td>\n",
       "      <td>35.579630</td>\n",
       "      <td>64422.277778</td>\n",
       "      <td>66025.222222</td>\n",
       "      <td>7044165</td>\n",
       "      <td>321738</td>\n",
       "      <td>1069888</td>\n",
       "      <td>2.496852</td>\n",
       "    </tr>\n",
       "    <tr>\n",
       "      <th>4</th>\n",
       "      <td>NJ</td>\n",
       "      <td>New Jersey</td>\n",
       "      <td>57</td>\n",
       "      <td>35.254386</td>\n",
       "      <td>60053.210526</td>\n",
       "      <td>61543.701754</td>\n",
       "      <td>6931024</td>\n",
       "      <td>146632</td>\n",
       "      <td>2327750</td>\n",
       "      <td>2.960877</td>\n",
       "    </tr>\n",
       "  </tbody>\n",
       "</table>\n",
       "</div>"
      ],
      "text/plain": [
       "  State_Code      State_Name  Num_Cities  AVG_Median_Age  AVG_Male_Population  \\\n",
       "0         AZ         Arizona          80       35.037500        139215.937500   \n",
       "1         SC  South Carolina          24       33.825000         52720.458333   \n",
       "2         LA       Louisiana          40       34.625000         78374.750000   \n",
       "3         MN       Minnesota          54       35.579630         64422.277778   \n",
       "4         NJ      New Jersey          57       35.254386         60053.210526   \n",
       "\n",
       "   AVG_Female_Population  Total_Population  Num_Veterans  Foreign_born  \\\n",
       "0          142005.437500          22497710       1322525       3411565   \n",
       "1           55070.208333           2586976        163334        134019   \n",
       "2           84199.625000           6502975        348855        417095   \n",
       "3           66025.222222           7044165        321738       1069888   \n",
       "4           61543.701754           6931024        146632       2327750   \n",
       "\n",
       "   Average_Household_Size  \n",
       "0                2.774375  \n",
       "1                2.469583  \n",
       "2                2.465000  \n",
       "3                2.496852  \n",
       "4                2.960877  "
      ]
     },
     "execution_count": 58,
     "metadata": {},
     "output_type": "execute_result"
    }
   ],
   "source": [
    "Dim_States_Table.limit(5).toPandas()"
   ]
  },
  {
   "cell_type": "markdown",
   "metadata": {
    "editable": true
   },
   "source": [
    "##### 3.2) Dim_AirLines"
   ]
  },
  {
   "cell_type": "code",
   "execution_count": 59,
   "metadata": {
    "editable": true
   },
   "outputs": [],
   "source": [
    "Dim_AirLine_Table = Airport_df.selectExpr(\"ident AS Airline_ID\" , \"type AS Al_Type\" ,'name AS Al_Name', 'elevation_ft AS Al_Elevation_FT',\n",
    "                      'continent AS Al_Continent','iso_country AS Al_Iso_Country','iso_region AS Al_Iso_Region',\n",
    "                      'municipality AS Al_Municipality','coordinates AS Al_Coordinates')"
   ]
  },
  {
   "cell_type": "code",
   "execution_count": 60,
   "metadata": {
    "editable": true
   },
   "outputs": [
    {
     "data": {
      "text/html": [
       "<div>\n",
       "<style scoped>\n",
       "    .dataframe tbody tr th:only-of-type {\n",
       "        vertical-align: middle;\n",
       "    }\n",
       "\n",
       "    .dataframe tbody tr th {\n",
       "        vertical-align: top;\n",
       "    }\n",
       "\n",
       "    .dataframe thead th {\n",
       "        text-align: right;\n",
       "    }\n",
       "</style>\n",
       "<table border=\"1\" class=\"dataframe\">\n",
       "  <thead>\n",
       "    <tr style=\"text-align: right;\">\n",
       "      <th></th>\n",
       "      <th>Airline_ID</th>\n",
       "      <th>Al_Type</th>\n",
       "      <th>Al_Name</th>\n",
       "      <th>Al_Elevation_FT</th>\n",
       "      <th>Al_Continent</th>\n",
       "      <th>Al_Iso_Country</th>\n",
       "      <th>Al_Iso_Region</th>\n",
       "      <th>Al_Municipality</th>\n",
       "      <th>Al_Coordinates</th>\n",
       "    </tr>\n",
       "  </thead>\n",
       "  <tbody>\n",
       "    <tr>\n",
       "      <th>0</th>\n",
       "      <td>00A</td>\n",
       "      <td>heliport</td>\n",
       "      <td>Total Rf Heliport</td>\n",
       "      <td>11</td>\n",
       "      <td>NA</td>\n",
       "      <td>US</td>\n",
       "      <td>US-PA</td>\n",
       "      <td>Bensalem</td>\n",
       "      <td>-74.93360137939453, 40.07080078125</td>\n",
       "    </tr>\n",
       "    <tr>\n",
       "      <th>1</th>\n",
       "      <td>00AA</td>\n",
       "      <td>small_airport</td>\n",
       "      <td>Aero B Ranch Airport</td>\n",
       "      <td>3435</td>\n",
       "      <td>NA</td>\n",
       "      <td>US</td>\n",
       "      <td>US-KS</td>\n",
       "      <td>Leoti</td>\n",
       "      <td>-101.473911, 38.704022</td>\n",
       "    </tr>\n",
       "    <tr>\n",
       "      <th>2</th>\n",
       "      <td>00AK</td>\n",
       "      <td>small_airport</td>\n",
       "      <td>Lowell Field</td>\n",
       "      <td>450</td>\n",
       "      <td>NA</td>\n",
       "      <td>US</td>\n",
       "      <td>US-AK</td>\n",
       "      <td>Anchor Point</td>\n",
       "      <td>-151.695999146, 59.94919968</td>\n",
       "    </tr>\n",
       "    <tr>\n",
       "      <th>3</th>\n",
       "      <td>00AL</td>\n",
       "      <td>small_airport</td>\n",
       "      <td>Epps Airpark</td>\n",
       "      <td>820</td>\n",
       "      <td>NA</td>\n",
       "      <td>US</td>\n",
       "      <td>US-AL</td>\n",
       "      <td>Harvest</td>\n",
       "      <td>-86.77030181884766, 34.86479949951172</td>\n",
       "    </tr>\n",
       "    <tr>\n",
       "      <th>4</th>\n",
       "      <td>00AR</td>\n",
       "      <td>closed</td>\n",
       "      <td>Newport Hospital &amp; Clinic Heliport</td>\n",
       "      <td>237</td>\n",
       "      <td>NA</td>\n",
       "      <td>US</td>\n",
       "      <td>US-AR</td>\n",
       "      <td>Newport</td>\n",
       "      <td>-91.254898, 35.6087</td>\n",
       "    </tr>\n",
       "  </tbody>\n",
       "</table>\n",
       "</div>"
      ],
      "text/plain": [
       "  Airline_ID        Al_Type                             Al_Name  \\\n",
       "0        00A       heliport                   Total Rf Heliport   \n",
       "1       00AA  small_airport                Aero B Ranch Airport   \n",
       "2       00AK  small_airport                        Lowell Field   \n",
       "3       00AL  small_airport                        Epps Airpark   \n",
       "4       00AR         closed  Newport Hospital & Clinic Heliport   \n",
       "\n",
       "  Al_Elevation_FT Al_Continent Al_Iso_Country Al_Iso_Region Al_Municipality  \\\n",
       "0              11           NA             US         US-PA        Bensalem   \n",
       "1            3435           NA             US         US-KS           Leoti   \n",
       "2             450           NA             US         US-AK    Anchor Point   \n",
       "3             820           NA             US         US-AL         Harvest   \n",
       "4             237           NA             US         US-AR         Newport   \n",
       "\n",
       "                          Al_Coordinates  \n",
       "0     -74.93360137939453, 40.07080078125  \n",
       "1                 -101.473911, 38.704022  \n",
       "2            -151.695999146, 59.94919968  \n",
       "3  -86.77030181884766, 34.86479949951172  \n",
       "4                    -91.254898, 35.6087  "
      ]
     },
     "execution_count": 60,
     "metadata": {},
     "output_type": "execute_result"
    }
   ],
   "source": [
    "Dim_AirLine_Table.limit(5).toPandas()"
   ]
  },
  {
   "cell_type": "markdown",
   "metadata": {
    "editable": true
   },
   "source": [
    "## Here we will define a Full ETL Pipeline Function that takes the raw data and transform it to the Fact/Dim tables\n",
    "\n",
    "This is a summarization for all of the above steps in the notebook so we don't need to go through each cell one by one\n"
   ]
  },
  {
   "cell_type": "code",
   "execution_count": 81,
   "metadata": {
    "editable": true
   },
   "outputs": [],
   "source": [
    "def ETL_Immi_Fact(Originalpath):\n",
    "    # Cleaning Function\n",
    "    Clean_df = CleanImmiData(Originalpath)\n",
    "    # Select the needed Columns\n",
    "    Fact_l94_Immigration_Table =Clean_df.select('Img_ID','Img_Year','Img_Month','Img_City','Transportation_Mode',\n",
    "                                                 'State_Arrival','Airline','Flight_Number','Visa_Type')\n",
    "    # Return Fact Table Immigration\n",
    "    return Fact_l94_Immigration_Table"
   ]
  },
  {
   "cell_type": "code",
   "execution_count": 85,
   "metadata": {
    "editable": true
   },
   "outputs": [],
   "source": [
    "def ETL_Immigrant_Dim(Originalpath):\n",
    "    # Cleaning Function\n",
    "    Clean_df = CleanImmiData(Originalpath)\n",
    "    # Select Needed Columns\n",
    "    Dim_Immigrant_Table = Clean_df.select('Img_ID','Img_BCountry','Img_ResidenceCountry','Age','Img_BYear','Img_gender')\n",
    "    \n",
    "    # Return Dim Table Immigrant\n",
    "    return Dim_Immigrant_Table"
   ]
  },
  {
   "cell_type": "code",
   "execution_count": 84,
   "metadata": {
    "editable": true
   },
   "outputs": [],
   "source": [
    "def ETL_Visa_Dim(Originalpath):\n",
    "    # Cleaning Function\n",
    "    Clean_df = CleanImmiData(Originalpath)\n",
    "    # Select Needed Columns\n",
    "    Dim_Visa_Table = Clean_df.select('Visa_Type' ,'Visa_Codes','Visa_Post')\n",
    "    # Return Dim table Visa\n",
    "    return Dim_Visa_Table"
   ]
  },
  {
   "cell_type": "code",
   "execution_count": 86,
   "metadata": {
    "editable": true
   },
   "outputs": [],
   "source": [
    "def ETL_State_Dim(Originalpath):\n",
    "    # Cleaning Function\n",
    "    Clean_df = CleanCitiesData(Originalpath)\n",
    "    # Select Needed Columns\n",
    "    Dim_States_Table = Clean_df.select('State_Code','State_Name','Num_Cities','AVG_Median_Age','AVG_Male_Population',\n",
    "                                     'AVG_Female_Population','Total_Population','Num_Veterans','Foreign_born',\n",
    "                                                    'Average_Household_Size')\n",
    "    # Return States Dim table\n",
    "    return Dim_States_Table"
   ]
  },
  {
   "cell_type": "code",
   "execution_count": 87,
   "metadata": {
    "editable": true
   },
   "outputs": [],
   "source": [
    "def ETL_Airline_Dim(Originalpath):\n",
    "    # Cleaning Function\n",
    "    Clean_df = CleanAirlineData(Originalpath)\n",
    "    # Select Needed Columns\n",
    "    Dim_AirLine_Table = Clean_df.selectExpr(\"ident AS Airline_ID\" , \"type AS Al_Type\" ,'name AS Al_Name', 'elevation_ft AS Al_Elevation_FT',\n",
    "                      'continent AS Al_Continent','iso_country AS Al_Iso_Country','iso_region AS Al_Iso_Region',\n",
    "                      'municipality AS Al_Municipality','coordinates AS Al_Coordinates')\n",
    "    \n",
    "    return Dim_AirLine_Table"
   ]
  },
  {
   "cell_type": "markdown",
   "metadata": {
    "editable": true
   },
   "source": [
    "#### 4) Save Output Tables "
   ]
  },
  {
   "cell_type": "markdown",
   "metadata": {
    "editable": true
   },
   "source": [
    "Save Fact Table "
   ]
  },
  {
   "cell_type": "code",
   "execution_count": 61,
   "metadata": {
    "editable": true
   },
   "outputs": [],
   "source": [
    "Fact_l94_Immigration_Table.write.parquet(\"/Output_Dim_Fact_Tables/Fact_l94_Immigration_Table.parquet\") "
   ]
  },
  {
   "cell_type": "markdown",
   "metadata": {
    "editable": true
   },
   "source": [
    "Save Dim Tables"
   ]
  },
  {
   "cell_type": "code",
   "execution_count": 62,
   "metadata": {
    "editable": true
   },
   "outputs": [],
   "source": [
    "Dim_AirLine_Table.write.parquet(\"/Output_Dim_Fact_Tables/Dim_AirLine_Table.parquet\") "
   ]
  },
  {
   "cell_type": "code",
   "execution_count": 63,
   "metadata": {
    "editable": true
   },
   "outputs": [],
   "source": [
    "Dim_States_Table.write.parquet(\"/Output_Dim_Fact_Tables/Dim_States_Table.parquet\") "
   ]
  },
  {
   "cell_type": "code",
   "execution_count": 64,
   "metadata": {
    "editable": true
   },
   "outputs": [],
   "source": [
    "Dim_Visa_Table.write.parquet(\"/Output_Dim_Fact_Tables/Dim_Visa_Table.parquet\") "
   ]
  },
  {
   "cell_type": "code",
   "execution_count": 65,
   "metadata": {
    "editable": true
   },
   "outputs": [],
   "source": [
    "Dim_Immigrant_Table.write.parquet(\"/Output_Dim_Fact_Tables/Dim_Immigrant_Table.parquet\") "
   ]
  },
  {
   "cell_type": "markdown",
   "metadata": {
    "editable": true
   },
   "source": [
    "#### 4.2 Data Quality Checks\n",
    "For the Data Quality Check we will be creating to Functions :\n",
    " * Function to check if the Table are empty or not\n",
    " * Function to check if the column has duplicate values of not\n",
    "\n",
    "In case the Check failed it will raise error for the user\n",
    "So we will have two checks one on the table level and the other on the Columns level \n",
    "\n",
    "#### Let's Start by Defining our Functions\n"
   ]
  },
  {
   "cell_type": "code",
   "execution_count": 66,
   "metadata": {
    "editable": true
   },
   "outputs": [],
   "source": [
    "# Define Quality Check Function 1\n",
    "def Check_DF_rows(df ,name):\n",
    "    \"\"\"\n",
    "        Function Takes df and it's name and count number of rows \n",
    "        if rows == 0 \n",
    "            return value error\n",
    "        else\n",
    "            test Passed\n",
    "    \"\"\"\n",
    "    if df.count == 0:\n",
    "        raise ValueError('Empty Table!!')\n",
    "    else :\n",
    "        print(\"Quality Check Passed!!\")\n"
   ]
  },
  {
   "cell_type": "code",
   "execution_count": 67,
   "metadata": {
    "editable": true
   },
   "outputs": [],
   "source": [
    "# Define Quality Check Function 2\n",
    "def Check_DF_Dup(df ,col):\n",
    "    \"\"\"\n",
    "        Function Takes dataframe and a column name check if the column has duplicate values\n",
    "        if has duplicate values \n",
    "            Raise Value error\n",
    "        Else\n",
    "            Print Check Passed !\n",
    "    \n",
    "    \"\"\"\n",
    "    if df.count() > df.dropDuplicates([col]).count():\n",
    "        raise ValueError('Data has duplicates')\n",
    "    else :\n",
    "        print(\"Quality Check Passed!!\")\n",
    "    "
   ]
  },
  {
   "cell_type": "code",
   "execution_count": 68,
   "metadata": {
    "editable": true
   },
   "outputs": [],
   "source": [
    "# Read Saved Tables\n",
    "Dim_AirLine_Table=spark.read.parquet(\"/Output_Dim_Fact_Tables/Dim_AirLine_Table.parquet\")"
   ]
  },
  {
   "cell_type": "code",
   "execution_count": 69,
   "metadata": {
    "editable": true
   },
   "outputs": [
    {
     "data": {
      "text/plain": [
       "['Airline_ID',\n",
       " 'Al_Type',\n",
       " 'Al_Name',\n",
       " 'Al_Elevation_FT',\n",
       " 'Al_Continent',\n",
       " 'Al_Iso_Country',\n",
       " 'Al_Iso_Region',\n",
       " 'Al_Municipality',\n",
       " 'Al_Coordinates']"
      ]
     },
     "execution_count": 69,
     "metadata": {},
     "output_type": "execute_result"
    }
   ],
   "source": [
    "Dim_AirLine_Table.columns"
   ]
  },
  {
   "cell_type": "code",
   "execution_count": 70,
   "metadata": {
    "editable": true
   },
   "outputs": [
    {
     "name": "stdout",
     "output_type": "stream",
     "text": [
      "Quality Check Passed!!\n"
     ]
    }
   ],
   "source": [
    "Check_DF_rows(Dim_AirLine_Table , \"Dim_AirLine\")"
   ]
  },
  {
   "cell_type": "code",
   "execution_count": 71,
   "metadata": {
    "editable": true
   },
   "outputs": [
    {
     "name": "stdout",
     "output_type": "stream",
     "text": [
      "Quality Check Passed!!\n"
     ]
    }
   ],
   "source": [
    "Check_DF_Dup(Dim_AirLine_Table ,'Airline_ID' )"
   ]
  },
  {
   "cell_type": "markdown",
   "metadata": {
    "editable": true
   },
   "source": [
    "### 4.3 Data dictionary \n",
    "#### 1) Fact_l94_Immigration\n",
    "| Column Name |  Description |\n",
    "|--|--|\n",
    "|Img_ID | Unique record ID  |\n",
    "| Img_Year | 4 digit year |\n",
    "|Img_Month |  Numeric month |\n",
    "|Img_City | Port of admission |\n",
    "|Transportation_Mode | Mode of transportation (1 = Air; 2 = Sea; 3 = Land; 9 = Not reported) |\n",
    "|State_Arrival | USA State of arrival |\n",
    "|Airline | Airline used to arrive in U.S. |\n",
    "|Flight_Number | Flight number of Airline used to arrive in U.S.  |\n",
    "|Visa_Type |  Class of admission legally admitting the non-immigrant to temporarily stay in U.S. |\n",
    "\n",
    "#### 2) Dim_Immigrant_Table\n",
    "\n",
    "| Column Name |  Description |\n",
    "|--|--|\n",
    "|Img_ID|Unique record ID  |\n",
    "|Img_BCountry| 3 digit code for immigrant country of birth  |\n",
    "|Img_ResidenceCountry| 3 digit code for immigrant country of residence  |\n",
    "|Age|  Age of Respondent in Years  |\n",
    "|Img_BYear|  4 digit year of birth |\n",
    "|Img_gender|Non-immigrant sex |\n",
    "\n",
    "\n",
    "#### 3) Dim_Visa_Table\n",
    "| Column Name |  Description |\n",
    "|--|--|\n",
    "|Visa_Type|    Class of admission legally admitting the non-immigrant to temporarily stay in U.S.    |\n",
    "|Visa_Codes|   Visa codes collapsed into three categories    |\n",
    "|Visa_Post|    Department of State where where Visa was issued    |\n",
    "\n",
    "\n",
    "#### 4) Dim_AirLine_Table\n",
    "| Column Name |  Description |\n",
    "|--|--|\n",
    "|Airline_ID|     Airline Unique ID  |\n",
    "|Al_Type|     Airline Type      |\n",
    "|Al_Name|       Airline Name   |\n",
    "|Al_Elevation_FT|      Airline Elevation with FT    |\n",
    "|Al_Continent|       Airline Continent   |\n",
    "|Al_Iso_Country|       Airline Country   |\n",
    "|Al_Iso_Region|        Airline Region  |\n",
    "|Al_Municipality|        Airline Municipality  |\n",
    "|Al_Coordinates|     Airline Coordinates     |\n",
    "\n",
    "#### 5) Dim_States_Table\n",
    "| Column Name |  Description |\n",
    "|--|--|\n",
    "|State_Code|   State Unique Code          |\n",
    "|State_Name|          State Name   |\n",
    "|Num_Cities|          Number of Cities in the State   |\n",
    "|AVG_Median_Age|          AVG of the Median Age in the State   |\n",
    "|AVG_Male_Population|         AVG of Male Population in the State    |\n",
    "|AVG_Female_Population|           AVG OF Female Population in the State  |\n",
    "|Total_Population|           Total Population  |\n",
    "|Num_Veterans|           Number of Veterans in the state  |\n",
    "|Foreign_born|           Number of Foreign Born in the State  |\n",
    "|Average_Household_Size |       Average Household Size in the State      |"
   ]
  },
  {
   "cell_type": "markdown",
   "metadata": {
    "editable": true
   },
   "source": [
    "#### Step 5: Complete Project Write Up\n",
    "* Clearly state the rationale for the choice of tools and technologies for the project.\n",
    "I Used Spark because:\n",
    " - it's able to handle multiple file formats with large amounts of data.\n",
    " - It can also scale up or down based on the need for future increase of data.\n",
    " - Apache Spark is easy to use and give you the freedom to use python or sql to do your proccesses\n",
    "\n",
    "* Propose how often the data should be updated and why.\n",
    " - Monthly because the dataset is given for each month so we will need to the monthly added data to our DWH to be able to do our analysis based on the newest trends\n",
    " \n",
    "* Write a description of how you would approach the problem differently under the following scenarios:\n",
    " * The data was increased by 100x.\n",
    "  - In this case i will be using AWS EC2 clusters to run spark on and Redshift as my DWH and the Dataset will be on S3 by doing so we will have the full freedom of the cloud based solution \n",
    "  \n",
    " * The data populates a dashboard that must be updated on a daily basis by 7am every day.\n",
    "  - In this case we will be using Airflow DAGS to create our pipeline and schedule it to run everyday so we don't have to do it manually \n",
    "  \n",
    " * The database needed to be accessed by 100+ people.\n",
    "  - Using Cloud will help us in that sitiuation and using Redshift as a DWH and even we can have Data marts for each group of peaple that needs to access the data"
   ]
  },
  {
   "cell_type": "markdown",
   "metadata": {
    "editable": true
   },
   "source": [
    "## Step 6 : Test Data Model"
   ]
  },
  {
   "cell_type": "markdown",
   "metadata": {
    "editable": true
   },
   "source": [
    "In this section we will try to query our data to prove that our data model works fine"
   ]
  },
  {
   "cell_type": "code",
   "execution_count": 88,
   "metadata": {
    "editable": true
   },
   "outputs": [],
   "source": [
    "Dim_Airline = ETL_Airline_Dim('airport-codes_csv.csv')\n",
    "Fact_Immi = ETL_Immi_Fact('../../data/18-83510-I94-Data-2016/i94_apr16_sub.sas7bdat')"
   ]
  },
  {
   "cell_type": "code",
   "execution_count": 89,
   "metadata": {
    "editable": true
   },
   "outputs": [],
   "source": [
    "# Create views \n",
    "Fact_Immi.createOrReplaceTempView(\"FactImmi\")\n",
    "Dim_Airline.createOrReplaceTempView(\"DimAirline\")"
   ]
  },
  {
   "cell_type": "code",
   "execution_count": 90,
   "metadata": {
    "editable": true
   },
   "outputs": [
    {
     "data": {
      "text/html": [
       "<div>\n",
       "<style scoped>\n",
       "    .dataframe tbody tr th:only-of-type {\n",
       "        vertical-align: middle;\n",
       "    }\n",
       "\n",
       "    .dataframe tbody tr th {\n",
       "        vertical-align: top;\n",
       "    }\n",
       "\n",
       "    .dataframe thead th {\n",
       "        text-align: right;\n",
       "    }\n",
       "</style>\n",
       "<table border=\"1\" class=\"dataframe\">\n",
       "  <thead>\n",
       "    <tr style=\"text-align: right;\">\n",
       "      <th></th>\n",
       "      <th>Airline</th>\n",
       "      <th>CountImmigrants</th>\n",
       "    </tr>\n",
       "  </thead>\n",
       "  <tbody>\n",
       "    <tr>\n",
       "      <th>0</th>\n",
       "      <td>00AA</td>\n",
       "      <td>310091</td>\n",
       "    </tr>\n",
       "    <tr>\n",
       "      <th>1</th>\n",
       "      <td>00LA</td>\n",
       "      <td>43111</td>\n",
       "    </tr>\n",
       "    <tr>\n",
       "      <th>2</th>\n",
       "      <td>00CA</td>\n",
       "      <td>26012</td>\n",
       "    </tr>\n",
       "    <tr>\n",
       "      <th>3</th>\n",
       "      <td>00NK</td>\n",
       "      <td>20419</td>\n",
       "    </tr>\n",
       "    <tr>\n",
       "      <th>4</th>\n",
       "      <td>00AR</td>\n",
       "      <td>18052</td>\n",
       "    </tr>\n",
       "    <tr>\n",
       "      <th>5</th>\n",
       "      <td>00AZ</td>\n",
       "      <td>17610</td>\n",
       "    </tr>\n",
       "    <tr>\n",
       "      <th>6</th>\n",
       "      <td>00MT</td>\n",
       "      <td>14253</td>\n",
       "    </tr>\n",
       "    <tr>\n",
       "      <th>7</th>\n",
       "      <td>00VA</td>\n",
       "      <td>11899</td>\n",
       "    </tr>\n",
       "    <tr>\n",
       "      <th>8</th>\n",
       "      <td>00TN</td>\n",
       "      <td>3602</td>\n",
       "    </tr>\n",
       "    <tr>\n",
       "      <th>9</th>\n",
       "      <td>00WN</td>\n",
       "      <td>3418</td>\n",
       "    </tr>\n",
       "  </tbody>\n",
       "</table>\n",
       "</div>"
      ],
      "text/plain": [
       "  Airline  CountImmigrants\n",
       "0    00AA           310091\n",
       "1    00LA            43111\n",
       "2    00CA            26012\n",
       "3    00NK            20419\n",
       "4    00AR            18052\n",
       "5    00AZ            17610\n",
       "6    00MT            14253\n",
       "7    00VA            11899\n",
       "8    00TN             3602\n",
       "9    00WN             3418"
      ]
     },
     "execution_count": 90,
     "metadata": {},
     "output_type": "execute_result"
    }
   ],
   "source": [
    "spark.sql(\"\"\"\n",
    "SELECT I.Airline , COUNT(*) as CountImmigrants\n",
    "FROM FactImmi as I JOIN DimAirline A ON I.Airline = A.Airline_id\n",
    "GROUP BY  I.Airline\n",
    "ORDER BY CountImmigrants DESC\n",
    "limit 10\n",
    "\"\"\").toPandas()"
   ]
  },
  {
   "cell_type": "markdown",
   "metadata": {
    "editable": true
   },
   "source": [
    "Our Query shows the top 10 Airline that have the most number of immigrants so we can further investigate why specially Airline 00AA has such a very high number <br>\n",
    "Also Our Query Proived that our Data Model Works Just as Expected"
   ]
  }
 ],
 "metadata": {
  "kernelspec": {
   "display_name": "Python 3",
   "language": "python",
   "name": "python3"
  },
  "language_info": {
   "codemirror_mode": {
    "name": "ipython",
    "version": 3
   },
   "file_extension": ".py",
   "mimetype": "text/x-python",
   "name": "python",
   "nbconvert_exporter": "python",
   "pygments_lexer": "ipython3",
   "version": "3.6.3"
  }
 },
 "nbformat": 4,
 "nbformat_minor": 4
}
